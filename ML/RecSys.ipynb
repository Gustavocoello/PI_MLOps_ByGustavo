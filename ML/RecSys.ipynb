{
 "cells": [
  {
   "cell_type": "markdown",
   "metadata": {},
   "source": [
    "## ***Machine Learning***\n",
    "El modelo deberá tener una relación `ítem-ítem`, esto es se toma un item, en base a que tan similar es ese ítem al resto, se recomiendan similares. Aquí el input es un juego y el output es una lista de juegos recomendados, para ello recomendamos aplicaremos la similitud del coseno."
   ]
  },
  {
   "cell_type": "markdown",
   "metadata": {},
   "source": [
    "**Comenzamos trayendo los datos, las librerias y creando nuestro sistema de recomendación usando un filtro-colaborativo de `item-item`. Entonces...**\n",
    "<img src = \"https://encrypted-tbn0.gstatic.com/images?q=tbn:ANd9GcTqF0wkErtJDCV5QzwoPO_9sdEA7nxQdk5EJA&usqp=CAU\">"
   ]
  },
  {
   "cell_type": "markdown",
   "metadata": {},
   "source": [
    "### 1. Importamos  librerías"
   ]
  },
  {
   "cell_type": "code",
   "execution_count": 1,
   "metadata": {},
   "outputs": [],
   "source": [
    "# Importtamos librerias\n",
    "import numpy as np \n",
    "import pandas as pd \n",
    "from sklearn.model_selection import train_test_split\n",
    "from sklearn.metrics import precision_score, recall_score, accuracy_score, confusion_matrix\n",
    "from sklearn.metrics.pairwise import cosine_similarity"
   ]
  },
  {
   "cell_type": "markdown",
   "metadata": {},
   "source": [
    "### 1.1 Carga inicial de los datos"
   ]
  },
  {
   "cell_type": "code",
   "execution_count": 17,
   "metadata": {},
   "outputs": [],
   "source": [
    "games   = pd.read_parquet(\"Data/steam_games.parquet\")\n",
    "reviews = pd.read_parquet(\"Data/steam_reviews.parquet\")\n",
    "items   = pd.read_parquet(\"Data/steam_items.parquet\")"
   ]
  },
  {
   "cell_type": "code",
   "execution_count": 18,
   "metadata": {},
   "outputs": [],
   "source": [
    "# Convertir en Dataframe \n",
    "df_games   = pd.DataFrame(games)\n",
    "df_reviews = pd.DataFrame(reviews)\n",
    "df_items   = pd.DataFrame(items)"
   ]
  },
  {
   "cell_type": "markdown",
   "metadata": {},
   "source": [
    "### 1.2 Combinamos los datos "
   ]
  },
  {
   "cell_type": "code",
   "execution_count": 19,
   "metadata": {},
   "outputs": [
    {
     "name": "stdout",
     "output_type": "stream",
     "text": [
      "Index(['name', 'url', 'reviews_url', 'price', 'item_id', 'Year', 'genres',\n",
      "       'tags', 'specs', 'developer'],\n",
      "      dtype='object')\n",
      "Index(['user_id', 'user_url', 'posted', 'item_id', 'recommend',\n",
      "       'sentiment_analysis'],\n",
      "      dtype='object')\n",
      "Index(['user_id', 'items_count', 'steam_id', 'user_url', 'item_id',\n",
      "       'item_name', 'playtime_forever', 'playtime_2weeks'],\n",
      "      dtype='object')\n"
     ]
    }
   ],
   "source": [
    "print(df_games.columns)\n",
    "print(df_reviews.columns)\n",
    "print(df_items.columns)"
   ]
  },
  {
   "cell_type": "markdown",
   "metadata": {},
   "source": [
    "Necesitamos una columna en cada DataFrame, son: en df_games es item_id, en df_reviews es sentiment_analysis y en df_items es user_id"
   ]
  },
  {
   "cell_type": "code",
   "execution_count": 20,
   "metadata": {},
   "outputs": [
    {
     "name": "stdout",
     "output_type": "stream",
     "text": [
      "(1977302, 10)\n",
      "(3246378, 8)\n",
      "(58431, 6)\n"
     ]
    }
   ],
   "source": [
    "print(df_games.shape)\n",
    "print(df_items.shape)\n",
    "print(df_reviews.shape)\n"
   ]
  },
  {
   "cell_type": "code",
   "execution_count": 21,
   "metadata": {},
   "outputs": [
    {
     "data": {
      "text/html": [
       "<div>\n",
       "<style scoped>\n",
       "    .dataframe tbody tr th:only-of-type {\n",
       "        vertical-align: middle;\n",
       "    }\n",
       "\n",
       "    .dataframe tbody tr th {\n",
       "        vertical-align: top;\n",
       "    }\n",
       "\n",
       "    .dataframe thead th {\n",
       "        text-align: right;\n",
       "    }\n",
       "</style>\n",
       "<table border=\"1\" class=\"dataframe\">\n",
       "  <thead>\n",
       "    <tr style=\"text-align: right;\">\n",
       "      <th></th>\n",
       "      <th>name</th>\n",
       "      <th>url</th>\n",
       "      <th>reviews_url</th>\n",
       "      <th>price</th>\n",
       "      <th>item_id</th>\n",
       "      <th>Year</th>\n",
       "      <th>genres</th>\n",
       "      <th>tags</th>\n",
       "      <th>specs</th>\n",
       "      <th>developer</th>\n",
       "    </tr>\n",
       "  </thead>\n",
       "  <tbody>\n",
       "    <tr>\n",
       "      <th>0</th>\n",
       "      <td>Lost Summoner Kitty</td>\n",
       "      <td>http://store.steampowered.com/app/761140/Lost_...</td>\n",
       "      <td>http://steamcommunity.com/app/761140/reviews/?...</td>\n",
       "      <td>4.99</td>\n",
       "      <td>761140</td>\n",
       "      <td>2018</td>\n",
       "      <td>Action</td>\n",
       "      <td>Strategy</td>\n",
       "      <td>Single-player</td>\n",
       "      <td>kotoshiro</td>\n",
       "    </tr>\n",
       "    <tr>\n",
       "      <th>1</th>\n",
       "      <td>Lost Summoner Kitty</td>\n",
       "      <td>http://store.steampowered.com/app/761140/Lost_...</td>\n",
       "      <td>http://steamcommunity.com/app/761140/reviews/?...</td>\n",
       "      <td>4.99</td>\n",
       "      <td>761140</td>\n",
       "      <td>2018</td>\n",
       "      <td>Action</td>\n",
       "      <td>Action</td>\n",
       "      <td>Single-player</td>\n",
       "      <td>kotoshiro</td>\n",
       "    </tr>\n",
       "    <tr>\n",
       "      <th>2</th>\n",
       "      <td>Lost Summoner Kitty</td>\n",
       "      <td>http://store.steampowered.com/app/761140/Lost_...</td>\n",
       "      <td>http://steamcommunity.com/app/761140/reviews/?...</td>\n",
       "      <td>4.99</td>\n",
       "      <td>761140</td>\n",
       "      <td>2018</td>\n",
       "      <td>Action</td>\n",
       "      <td>Indie</td>\n",
       "      <td>Single-player</td>\n",
       "      <td>kotoshiro</td>\n",
       "    </tr>\n",
       "    <tr>\n",
       "      <th>3</th>\n",
       "      <td>Lost Summoner Kitty</td>\n",
       "      <td>http://store.steampowered.com/app/761140/Lost_...</td>\n",
       "      <td>http://steamcommunity.com/app/761140/reviews/?...</td>\n",
       "      <td>4.99</td>\n",
       "      <td>761140</td>\n",
       "      <td>2018</td>\n",
       "      <td>Action</td>\n",
       "      <td>Casual</td>\n",
       "      <td>Single-player</td>\n",
       "      <td>kotoshiro</td>\n",
       "    </tr>\n",
       "    <tr>\n",
       "      <th>4</th>\n",
       "      <td>Lost Summoner Kitty</td>\n",
       "      <td>http://store.steampowered.com/app/761140/Lost_...</td>\n",
       "      <td>http://steamcommunity.com/app/761140/reviews/?...</td>\n",
       "      <td>4.99</td>\n",
       "      <td>761140</td>\n",
       "      <td>2018</td>\n",
       "      <td>Action</td>\n",
       "      <td>Simulation</td>\n",
       "      <td>Single-player</td>\n",
       "      <td>kotoshiro</td>\n",
       "    </tr>\n",
       "  </tbody>\n",
       "</table>\n",
       "</div>"
      ],
      "text/plain": [
       "                  name                                                url  \\\n",
       "0  Lost Summoner Kitty  http://store.steampowered.com/app/761140/Lost_...   \n",
       "1  Lost Summoner Kitty  http://store.steampowered.com/app/761140/Lost_...   \n",
       "2  Lost Summoner Kitty  http://store.steampowered.com/app/761140/Lost_...   \n",
       "3  Lost Summoner Kitty  http://store.steampowered.com/app/761140/Lost_...   \n",
       "4  Lost Summoner Kitty  http://store.steampowered.com/app/761140/Lost_...   \n",
       "\n",
       "                                         reviews_url  price  item_id  Year  \\\n",
       "0  http://steamcommunity.com/app/761140/reviews/?...   4.99   761140  2018   \n",
       "1  http://steamcommunity.com/app/761140/reviews/?...   4.99   761140  2018   \n",
       "2  http://steamcommunity.com/app/761140/reviews/?...   4.99   761140  2018   \n",
       "3  http://steamcommunity.com/app/761140/reviews/?...   4.99   761140  2018   \n",
       "4  http://steamcommunity.com/app/761140/reviews/?...   4.99   761140  2018   \n",
       "\n",
       "   genres        tags          specs  developer  \n",
       "0  Action    Strategy  Single-player  kotoshiro  \n",
       "1  Action      Action  Single-player  kotoshiro  \n",
       "2  Action       Indie  Single-player  kotoshiro  \n",
       "3  Action      Casual  Single-player  kotoshiro  \n",
       "4  Action  Simulation  Single-player  kotoshiro  "
      ]
     },
     "execution_count": 21,
     "metadata": {},
     "output_type": "execute_result"
    }
   ],
   "source": [
    "df_games.head()"
   ]
  },
  {
   "cell_type": "code",
   "execution_count": 14,
   "metadata": {},
   "outputs": [
    {
     "data": {
      "text/plain": [
       "-409341093"
      ]
     },
     "execution_count": 14,
     "metadata": {},
     "output_type": "execute_result"
    }
   ],
   "source": [
    "df_games['item_id'].unique().sum()\n"
   ]
  },
  {
   "cell_type": "code",
   "execution_count": null,
   "metadata": {},
   "outputs": [],
   "source": []
  }
 ],
 "metadata": {
  "kernelspec": {
   "display_name": "Python 3",
   "language": "python",
   "name": "python3"
  },
  "language_info": {
   "codemirror_mode": {
    "name": "ipython",
    "version": 3
   },
   "file_extension": ".py",
   "mimetype": "text/x-python",
   "name": "python",
   "nbconvert_exporter": "python",
   "pygments_lexer": "ipython3",
   "version": "3.11.9"
  }
 },
 "nbformat": 4,
 "nbformat_minor": 2
}
