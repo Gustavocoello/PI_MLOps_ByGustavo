{
 "cells": [
  {
   "cell_type": "markdown",
   "metadata": {},
   "source": [
    "# ETL (Extract Transform Load)\n",
    "\n",
    "Extraer, Transformar, Carga <div>\n",
    "Es un proceso que se utiliza para mover datos de una fuente (Extract), realizar modificaciones en esos datos según sea necesario (Transform), y cargar los datos resultantes en un destino deseado (Load). "
   ]
  },
  {
   "cell_type": "markdown",
   "metadata": {},
   "source": [
    "***En este archivo van todas las transformaciones requeridas***"
   ]
  },
  {
   "cell_type": "markdown",
   "metadata": {},
   "source": [
    "## 3. Preparación de los datos"
   ]
  },
  {
   "cell_type": "markdown",
   "metadata": {
    "vscode": {
     "languageId": "plaintext"
    }
   },
   "source": [
    "### 3.1 Importamos  librerías"
   ]
  },
  {
   "cell_type": "code",
   "execution_count": 93,
   "metadata": {},
   "outputs": [],
   "source": [
    "import pandas as pd  # type: ignore\n",
    "import numpy as np # type: ignore\n",
    "import seaborn as sns  # type: ignore\n",
    "import matplotlib.pyplot as plt # type: ignore\n",
    "import ast\n",
    "import scipy.stats as stats\n",
    "import warnings \n",
    "warnings.filterwarnings('ignore')"
   ]
  },
  {
   "cell_type": "markdown",
   "metadata": {},
   "source": [
    "### 3.2 Carga inicial de los datos"
   ]
  },
  {
   "cell_type": "code",
   "execution_count": 94,
   "metadata": {},
   "outputs": [],
   "source": [
    "# Cargar el archivo \n",
    "games = pd.read_json(\"Data/output_steam_games.json\", lines=True)"
   ]
  },
  {
   "cell_type": "code",
   "execution_count": 95,
   "metadata": {},
   "outputs": [],
   "source": [
    "# Convertimos en Dataframe\n",
    "df_games = pd.DataFrame(games)"
   ]
  },
  {
   "cell_type": "markdown",
   "metadata": {},
   "source": [
    "### 3.3 Preparación de los datos \n",
    "\n",
    "***Gracias al EDA ya conocemos nuestros datos, comenzaremos eliminando los datos faltantes.*** \n",
    "***Archivo games*** "
   ]
  },
  {
   "cell_type": "code",
   "execution_count": 96,
   "metadata": {},
   "outputs": [
    {
     "name": "stdout",
     "output_type": "stream",
     "text": [
      "(32135, 13)\n"
     ]
    }
   ],
   "source": [
    "df_games = df_games.dropna(how='all')\n",
    "print(df_games.shape)"
   ]
  },
  {
   "cell_type": "code",
   "execution_count": 97,
   "metadata": {},
   "outputs": [
    {
     "name": "stdout",
     "output_type": "stream",
     "text": [
      "['Free To Play' 'Free to Play' None 'Free' 'Free Demo' 'Play for Free!'\n",
      " 'Install Now' 'Play WARMACHINE: Tactics Demo' 'Free Mod' 'Install Theme'\n",
      " 'Third-party' 'Play Now' 'Free HITMAN™ Holiday Pack' 'Play the Demo'\n",
      " 'Starting at $499.00' 'Starting at $449.00' 'Free to Try' 'Free Movie'\n",
      " 'Free to Use']\n"
     ]
    }
   ],
   "source": [
    "#Observemos los valores no numericos en la columna 'price'\n",
    "mask_filter = pd.to_numeric(df_games['price'], errors='coerce').isna()\n",
    "no_numeric_values = df_games.loc[mask_filter, 'price'].unique()\n",
    "print(no_numeric_values)"
   ]
  },
  {
   "cell_type": "code",
   "execution_count": 98,
   "metadata": {},
   "outputs": [],
   "source": [
    "#convertimos los valores no numericos a 0 (cero) para representar a los juegos gratis \n",
    "df_games['price'] = pd.to_numeric(df_games['price'], errors= 'coerce')\n",
    "df_games['price'].fillna(0, inplace=True)"
   ]
  },
  {
   "cell_type": "code",
   "execution_count": 99,
   "metadata": {},
   "outputs": [
    {
     "data": {
      "text/plain": [
       "88310     4.988281\n",
       "88311     0.000000\n",
       "88312     0.000000\n",
       "88313     0.990234\n",
       "88314     2.990234\n",
       "            ...   \n",
       "120440    1.990234\n",
       "120441    4.988281\n",
       "120442    1.990234\n",
       "120443    4.988281\n",
       "120444    4.988281\n",
       "Name: price, Length: 32135, dtype: float16"
      ]
     },
     "execution_count": 99,
     "metadata": {},
     "output_type": "execute_result"
    }
   ],
   "source": [
    "df_games['price'].astype('float16')"
   ]
  },
  {
   "cell_type": "code",
   "execution_count": 100,
   "metadata": {},
   "outputs": [
    {
     "name": "stdout",
     "output_type": "stream",
     "text": [
      "1er cuartil =  1.99\n",
      "3er cuartil =  9.99\n",
      "IQR es la diferencia entre el 3er y 1er cuartil =  8.0\n",
      "Limite Inferior =  [  0.99 -38.01]\n",
      "Limite superior =  [10.99 49.99]\n"
     ]
    }
   ],
   "source": [
    "# Tratamiento de valores atipicos o outliers\n",
    "# Buscamos el 1er cuartil y 3er cuartil\n",
    "q1, q3 = np.percentile(df_games['price'], [25, 75])\n",
    "print(\"1er cuartil = \", q1)\n",
    "print(\"3er cuartil = \", q3)\n",
    "\n",
    "# Buscamos la diferencia\n",
    "iqr = q3 - q1\n",
    "print(\"IQR es la diferencia entre el 3er y 1er cuartil = \",iqr)\n",
    "\n",
    "# Limite inferior y superior \n",
    "limite_inferior = q1 - (1,5 * iqr)\n",
    "limite_superior = q3 + (1,5 * iqr)\n",
    "print(\"Limite Inferior = \", limite_inferior)\n",
    "print(\"Limite superior = \", limite_superior)"
   ]
  },
  {
   "cell_type": "code",
   "execution_count": 101,
   "metadata": {},
   "outputs": [
    {
     "data": {
      "text/html": [
       "<div>\n",
       "<style scoped>\n",
       "    .dataframe tbody tr th:only-of-type {\n",
       "        vertical-align: middle;\n",
       "    }\n",
       "\n",
       "    .dataframe tbody tr th {\n",
       "        vertical-align: top;\n",
       "    }\n",
       "\n",
       "    .dataframe thead th {\n",
       "        text-align: right;\n",
       "    }\n",
       "</style>\n",
       "<table border=\"1\" class=\"dataframe\">\n",
       "  <thead>\n",
       "    <tr style=\"text-align: right;\">\n",
       "      <th></th>\n",
       "      <th>publisher</th>\n",
       "      <th>genres</th>\n",
       "      <th>app_name</th>\n",
       "      <th>title</th>\n",
       "      <th>url</th>\n",
       "      <th>release_date</th>\n",
       "      <th>tags</th>\n",
       "      <th>reviews_url</th>\n",
       "      <th>specs</th>\n",
       "      <th>price</th>\n",
       "      <th>early_access</th>\n",
       "      <th>id</th>\n",
       "      <th>developer</th>\n",
       "      <th>Zscore_price</th>\n",
       "    </tr>\n",
       "  </thead>\n",
       "  <tbody>\n",
       "    <tr>\n",
       "      <th>88328</th>\n",
       "      <td>Poppermost Productions</td>\n",
       "      <td>[Free to Play, Indie, Simulation, Sports]</td>\n",
       "      <td>SNOW - Lifetime Pack</td>\n",
       "      <td>SNOW - Lifetime Pack</td>\n",
       "      <td>http://store.steampowered.com/app/774279/SNOW_...</td>\n",
       "      <td>2018-01-03</td>\n",
       "      <td>[Free to Play, Indie, Simulation, Sports]</td>\n",
       "      <td>http://steamcommunity.com/app/774279/reviews/?...</td>\n",
       "      <td>[Single-player, Multi-player, Online Multi-Pla...</td>\n",
       "      <td>59.99</td>\n",
       "      <td>0.0</td>\n",
       "      <td>774279.0</td>\n",
       "      <td>Poppermost Productions</td>\n",
       "      <td>3.288407</td>\n",
       "    </tr>\n",
       "    <tr>\n",
       "      <th>88735</th>\n",
       "      <td>SEGA</td>\n",
       "      <td>[Action, Adventure, Casual, RPG]</td>\n",
       "      <td>SEGA Mega Drive and Genesis Classics</td>\n",
       "      <td>SEGA Mega Drive and Genesis Classics</td>\n",
       "      <td>http://store.steampowered.com/app/34270/SEGA_M...</td>\n",
       "      <td>2010-06-01</td>\n",
       "      <td>[Action, RPG, Casual, Adventure, Retro, Classic]</td>\n",
       "      <td>http://steamcommunity.com/app/34270/reviews/?b...</td>\n",
       "      <td>[Single-player, Multi-player, Co-op, Local Co-...</td>\n",
       "      <td>61.99</td>\n",
       "      <td>0.0</td>\n",
       "      <td>34270.0</td>\n",
       "      <td>D3T Limited</td>\n",
       "      <td>3.416104</td>\n",
       "    </tr>\n",
       "    <tr>\n",
       "      <th>89356</th>\n",
       "      <td>Square Enix</td>\n",
       "      <td>[Action, Adventure]</td>\n",
       "      <td>Sleeping Dogs</td>\n",
       "      <td>Sleeping Dogs</td>\n",
       "      <td>http://store.steampowered.com/app/202170/Sleep...</td>\n",
       "      <td>None</td>\n",
       "      <td>[Open World, Action, Martial Arts, Third Perso...</td>\n",
       "      <td>http://steamcommunity.com/app/202170/reviews/?...</td>\n",
       "      <td>[Single-player, Steam Achievements, Full contr...</td>\n",
       "      <td>74.76</td>\n",
       "      <td>0.0</td>\n",
       "      <td>202170.0</td>\n",
       "      <td>United Front Games</td>\n",
       "      <td>4.231452</td>\n",
       "    </tr>\n",
       "    <tr>\n",
       "      <th>89404</th>\n",
       "      <td>Pilgway</td>\n",
       "      <td>[Animation &amp;amp; Modeling]</td>\n",
       "      <td>3D-Coat V4.8</td>\n",
       "      <td>3D-Coat V4.8</td>\n",
       "      <td>http://store.steampowered.com/app/100980/3DCoa...</td>\n",
       "      <td>2012-10-02</td>\n",
       "      <td>[Animation &amp; Modeling]</td>\n",
       "      <td>http://steamcommunity.com/app/100980/reviews/?...</td>\n",
       "      <td>[Steam Cloud]</td>\n",
       "      <td>99.99</td>\n",
       "      <td>0.0</td>\n",
       "      <td>100980.0</td>\n",
       "      <td>Pilgway</td>\n",
       "      <td>5.842355</td>\n",
       "    </tr>\n",
       "    <tr>\n",
       "      <th>89488</th>\n",
       "      <td>Activision</td>\n",
       "      <td>[Action]</td>\n",
       "      <td>Call of Duty®: Black Ops II</td>\n",
       "      <td>Call of Duty®: Black Ops II</td>\n",
       "      <td>http://store.steampowered.com/app/202970/Call_...</td>\n",
       "      <td>2012-11-12</td>\n",
       "      <td>[Action, Multiplayer, FPS, Shooter, First-Pers...</td>\n",
       "      <td>http://steamcommunity.com/app/202970/reviews/?...</td>\n",
       "      <td>[Single-player, Multi-player, Co-op, Steam Ach...</td>\n",
       "      <td>59.99</td>\n",
       "      <td>0.0</td>\n",
       "      <td>202970.0</td>\n",
       "      <td>Treyarch</td>\n",
       "      <td>3.288407</td>\n",
       "    </tr>\n",
       "    <tr>\n",
       "      <th>...</th>\n",
       "      <td>...</td>\n",
       "      <td>...</td>\n",
       "      <td>...</td>\n",
       "      <td>...</td>\n",
       "      <td>...</td>\n",
       "      <td>...</td>\n",
       "      <td>...</td>\n",
       "      <td>...</td>\n",
       "      <td>...</td>\n",
       "      <td>...</td>\n",
       "      <td>...</td>\n",
       "      <td>...</td>\n",
       "      <td>...</td>\n",
       "      <td>...</td>\n",
       "    </tr>\n",
       "    <tr>\n",
       "      <th>118334</th>\n",
       "      <td>SEGA</td>\n",
       "      <td>[Strategy]</td>\n",
       "      <td>Total War™: ROME II - Emperor Edition</td>\n",
       "      <td>Total War™: ROME II - Emperor Edition</td>\n",
       "      <td>http://store.steampowered.com/app/214950/Total...</td>\n",
       "      <td>2013-09-02</td>\n",
       "      <td>[Strategy, Historical, Turn-Based Strategy, Gr...</td>\n",
       "      <td>http://steamcommunity.com/app/214950/reviews/?...</td>\n",
       "      <td>[Single-player, Multi-player, Steam Trading Ca...</td>\n",
       "      <td>59.95</td>\n",
       "      <td>0.0</td>\n",
       "      <td>214950.0</td>\n",
       "      <td>Creative Assembly</td>\n",
       "      <td>3.285853</td>\n",
       "    </tr>\n",
       "    <tr>\n",
       "      <th>118628</th>\n",
       "      <td>Gaijin Entertainment</td>\n",
       "      <td>[Action, Free to Play, Massively Multiplayer, ...</td>\n",
       "      <td>Star Conflict: Mercenary Pack - Elite Pilot</td>\n",
       "      <td>Star Conflict: Mercenary Pack - Elite Pilot</td>\n",
       "      <td>http://store.steampowered.com/app/222282/Star_...</td>\n",
       "      <td>2013-02-27</td>\n",
       "      <td>[Action, Free to Play, Massively Multiplayer, ...</td>\n",
       "      <td>http://steamcommunity.com/app/222282/reviews/?...</td>\n",
       "      <td>[Multi-player, MMO, Downloadable Content, Part...</td>\n",
       "      <td>79.99</td>\n",
       "      <td>0.0</td>\n",
       "      <td>222282.0</td>\n",
       "      <td>Star Gem Inc.</td>\n",
       "      <td>4.565381</td>\n",
       "    </tr>\n",
       "    <tr>\n",
       "      <th>118663</th>\n",
       "      <td>Sector3 Studios, RaceRoom Entertainment AG</td>\n",
       "      <td>[Free to Play, Racing, Simulation, Sports]</td>\n",
       "      <td>RaceRoom Racing Experience</td>\n",
       "      <td>RaceRoom Racing Experience</td>\n",
       "      <td>http://store.steampowered.com/app/211500/RaceR...</td>\n",
       "      <td>2013-02-12</td>\n",
       "      <td>[Racing, Free to Play, Multiplayer, Simulation...</td>\n",
       "      <td>http://steamcommunity.com/app/211500/reviews/?...</td>\n",
       "      <td>[Single-player, Multi-player, Steam Trading Ca...</td>\n",
       "      <td>160.91</td>\n",
       "      <td>0.0</td>\n",
       "      <td>211500.0</td>\n",
       "      <td>Sector3 Studios</td>\n",
       "      <td>9.732019</td>\n",
       "    </tr>\n",
       "    <tr>\n",
       "      <th>118761</th>\n",
       "      <td>Nevercenter Ltd. Co.</td>\n",
       "      <td>[Animation &amp;amp; Modeling]</td>\n",
       "      <td>Silo 2</td>\n",
       "      <td>Silo 2</td>\n",
       "      <td>http://store.steampowered.com/app/100400/Silo_2/</td>\n",
       "      <td>2012-12-19</td>\n",
       "      <td>[Animation &amp; Modeling, Software]</td>\n",
       "      <td>http://steamcommunity.com/app/100400/reviews/?...</td>\n",
       "      <td>None</td>\n",
       "      <td>99.99</td>\n",
       "      <td>0.0</td>\n",
       "      <td>100400.0</td>\n",
       "      <td>Nevercenter Ltd. Co.</td>\n",
       "      <td>5.842355</td>\n",
       "    </tr>\n",
       "    <tr>\n",
       "      <th>118787</th>\n",
       "      <td>Degica</td>\n",
       "      <td>[Design &amp;amp; Illustration, Web Publishing]</td>\n",
       "      <td>RPG Maker VX Ace</td>\n",
       "      <td>RPG Maker VX Ace</td>\n",
       "      <td>http://store.steampowered.com/app/220700/RPG_M...</td>\n",
       "      <td>2012-12-10</td>\n",
       "      <td>[Game Development, RPG, RPGMaker, Design &amp; Ill...</td>\n",
       "      <td>http://steamcommunity.com/app/220700/reviews/?...</td>\n",
       "      <td>[Steam Trading Cards, Steam Workshop]</td>\n",
       "      <td>69.99</td>\n",
       "      <td>0.0</td>\n",
       "      <td>220700.0</td>\n",
       "      <td>KADOKAWA</td>\n",
       "      <td>3.926894</td>\n",
       "    </tr>\n",
       "  </tbody>\n",
       "</table>\n",
       "<p>301 rows × 14 columns</p>\n",
       "</div>"
      ],
      "text/plain": [
       "                                         publisher  \\\n",
       "88328                       Poppermost Productions   \n",
       "88735                                         SEGA   \n",
       "89356                                  Square Enix   \n",
       "89404                                      Pilgway   \n",
       "89488                                   Activision   \n",
       "...                                            ...   \n",
       "118334                                        SEGA   \n",
       "118628                        Gaijin Entertainment   \n",
       "118663  Sector3 Studios, RaceRoom Entertainment AG   \n",
       "118761                        Nevercenter Ltd. Co.   \n",
       "118787                                      Degica   \n",
       "\n",
       "                                                   genres  \\\n",
       "88328           [Free to Play, Indie, Simulation, Sports]   \n",
       "88735                    [Action, Adventure, Casual, RPG]   \n",
       "89356                                 [Action, Adventure]   \n",
       "89404                          [Animation &amp; Modeling]   \n",
       "89488                                            [Action]   \n",
       "...                                                   ...   \n",
       "118334                                         [Strategy]   \n",
       "118628  [Action, Free to Play, Massively Multiplayer, ...   \n",
       "118663         [Free to Play, Racing, Simulation, Sports]   \n",
       "118761                         [Animation &amp; Modeling]   \n",
       "118787        [Design &amp; Illustration, Web Publishing]   \n",
       "\n",
       "                                           app_name  \\\n",
       "88328                          SNOW - Lifetime Pack   \n",
       "88735          SEGA Mega Drive and Genesis Classics   \n",
       "89356                                 Sleeping Dogs   \n",
       "89404                                  3D-Coat V4.8   \n",
       "89488                   Call of Duty®: Black Ops II   \n",
       "...                                             ...   \n",
       "118334        Total War™: ROME II - Emperor Edition   \n",
       "118628  Star Conflict: Mercenary Pack - Elite Pilot   \n",
       "118663                   RaceRoom Racing Experience   \n",
       "118761                                       Silo 2   \n",
       "118787                             RPG Maker VX Ace   \n",
       "\n",
       "                                              title  \\\n",
       "88328                          SNOW - Lifetime Pack   \n",
       "88735          SEGA Mega Drive and Genesis Classics   \n",
       "89356                                 Sleeping Dogs   \n",
       "89404                                  3D-Coat V4.8   \n",
       "89488                   Call of Duty®: Black Ops II   \n",
       "...                                             ...   \n",
       "118334        Total War™: ROME II - Emperor Edition   \n",
       "118628  Star Conflict: Mercenary Pack - Elite Pilot   \n",
       "118663                   RaceRoom Racing Experience   \n",
       "118761                                       Silo 2   \n",
       "118787                             RPG Maker VX Ace   \n",
       "\n",
       "                                                      url release_date  \\\n",
       "88328   http://store.steampowered.com/app/774279/SNOW_...   2018-01-03   \n",
       "88735   http://store.steampowered.com/app/34270/SEGA_M...   2010-06-01   \n",
       "89356   http://store.steampowered.com/app/202170/Sleep...         None   \n",
       "89404   http://store.steampowered.com/app/100980/3DCoa...   2012-10-02   \n",
       "89488   http://store.steampowered.com/app/202970/Call_...   2012-11-12   \n",
       "...                                                   ...          ...   \n",
       "118334  http://store.steampowered.com/app/214950/Total...   2013-09-02   \n",
       "118628  http://store.steampowered.com/app/222282/Star_...   2013-02-27   \n",
       "118663  http://store.steampowered.com/app/211500/RaceR...   2013-02-12   \n",
       "118761   http://store.steampowered.com/app/100400/Silo_2/   2012-12-19   \n",
       "118787  http://store.steampowered.com/app/220700/RPG_M...   2012-12-10   \n",
       "\n",
       "                                                     tags  \\\n",
       "88328           [Free to Play, Indie, Simulation, Sports]   \n",
       "88735    [Action, RPG, Casual, Adventure, Retro, Classic]   \n",
       "89356   [Open World, Action, Martial Arts, Third Perso...   \n",
       "89404                              [Animation & Modeling]   \n",
       "89488   [Action, Multiplayer, FPS, Shooter, First-Pers...   \n",
       "...                                                   ...   \n",
       "118334  [Strategy, Historical, Turn-Based Strategy, Gr...   \n",
       "118628  [Action, Free to Play, Massively Multiplayer, ...   \n",
       "118663  [Racing, Free to Play, Multiplayer, Simulation...   \n",
       "118761                   [Animation & Modeling, Software]   \n",
       "118787  [Game Development, RPG, RPGMaker, Design & Ill...   \n",
       "\n",
       "                                              reviews_url  \\\n",
       "88328   http://steamcommunity.com/app/774279/reviews/?...   \n",
       "88735   http://steamcommunity.com/app/34270/reviews/?b...   \n",
       "89356   http://steamcommunity.com/app/202170/reviews/?...   \n",
       "89404   http://steamcommunity.com/app/100980/reviews/?...   \n",
       "89488   http://steamcommunity.com/app/202970/reviews/?...   \n",
       "...                                                   ...   \n",
       "118334  http://steamcommunity.com/app/214950/reviews/?...   \n",
       "118628  http://steamcommunity.com/app/222282/reviews/?...   \n",
       "118663  http://steamcommunity.com/app/211500/reviews/?...   \n",
       "118761  http://steamcommunity.com/app/100400/reviews/?...   \n",
       "118787  http://steamcommunity.com/app/220700/reviews/?...   \n",
       "\n",
       "                                                    specs   price  \\\n",
       "88328   [Single-player, Multi-player, Online Multi-Pla...   59.99   \n",
       "88735   [Single-player, Multi-player, Co-op, Local Co-...   61.99   \n",
       "89356   [Single-player, Steam Achievements, Full contr...   74.76   \n",
       "89404                                       [Steam Cloud]   99.99   \n",
       "89488   [Single-player, Multi-player, Co-op, Steam Ach...   59.99   \n",
       "...                                                   ...     ...   \n",
       "118334  [Single-player, Multi-player, Steam Trading Ca...   59.95   \n",
       "118628  [Multi-player, MMO, Downloadable Content, Part...   79.99   \n",
       "118663  [Single-player, Multi-player, Steam Trading Ca...  160.91   \n",
       "118761                                               None   99.99   \n",
       "118787              [Steam Trading Cards, Steam Workshop]   69.99   \n",
       "\n",
       "        early_access        id               developer  Zscore_price  \n",
       "88328            0.0  774279.0  Poppermost Productions      3.288407  \n",
       "88735            0.0   34270.0             D3T Limited      3.416104  \n",
       "89356            0.0  202170.0      United Front Games      4.231452  \n",
       "89404            0.0  100980.0                 Pilgway      5.842355  \n",
       "89488            0.0  202970.0                Treyarch      3.288407  \n",
       "...              ...       ...                     ...           ...  \n",
       "118334           0.0  214950.0       Creative Assembly      3.285853  \n",
       "118628           0.0  222282.0           Star Gem Inc.      4.565381  \n",
       "118663           0.0  211500.0         Sector3 Studios      9.732019  \n",
       "118761           0.0  100400.0    Nevercenter Ltd. Co.      5.842355  \n",
       "118787           0.0  220700.0                KADOKAWA      3.926894  \n",
       "\n",
       "[301 rows x 14 columns]"
      ]
     },
     "execution_count": 101,
     "metadata": {},
     "output_type": "execute_result"
    }
   ],
   "source": [
    "# Usaremos z_score para el tratamiento de valores atípicos.\n",
    "df_games['Zscore_price'] = stats.zscore(df_games['price'])\n",
    "# Detectar valores atípicos (z_score)\n",
    "df_games[(df_games['Zscore_price'] < -3) | (df_games['Zscore_price']> 3)]"
   ]
  },
  {
   "cell_type": "code",
   "execution_count": 102,
   "metadata": {},
   "outputs": [],
   "source": [
    "# Eliminar valor atípico\n",
    "df_games = df_games[(df_games['Zscore_price'] > -3) & (df_games['Zscore_price'] < 3)]"
   ]
  },
  {
   "cell_type": "markdown",
   "metadata": {},
   "source": [
    "Ya transformamos la columna precio, ya eliminamos los outliers y los valores faltantes, seguimos !"
   ]
  },
  {
   "cell_type": "code",
   "execution_count": 103,
   "metadata": {},
   "outputs": [],
   "source": [
    "# Ahora transformaremos la columna release_date a tipo to_datetime para mejor manipulacion \n",
    "df_games['release_date'] = pd.to_datetime(df_games['release_date'], format= '%Y-%m-%d', errors='coerce')"
   ]
  },
  {
   "cell_type": "code",
   "execution_count": 104,
   "metadata": {},
   "outputs": [],
   "source": [
    "# Creamos una columna nueva con esos valores, pero solo extraeremos el año y cambiamos el tipo de dato\n",
    "df_games['Year'] = df_games['release_date'].dt.year.astype('Int64')"
   ]
  },
  {
   "cell_type": "code",
   "execution_count": 105,
   "metadata": {},
   "outputs": [
    {
     "name": "stdout",
     "output_type": "stream",
     "text": [
      "Valores unicos faltantes <IntegerArray>\n",
      "[<NA>]\n",
      "Length: 1, dtype: Int64, Numero de valores faltantes 2334\n"
     ]
    }
   ],
   "source": [
    "# Buscamos cuales son los valores faltantes, ademas cuantos de esos valores existen \n",
    "mask_filter = df_games['Year'].isna()\n",
    "diferent_Value = df_games.loc[mask_filter, 'Year'].unique()\n",
    "print(f\"Valores unicos faltantes {diferent_Value}, Numero de valores faltantes {mask_filter.sum()}\")"
   ]
  },
  {
   "cell_type": "code",
   "execution_count": 106,
   "metadata": {},
   "outputs": [],
   "source": [
    "# LLenamos los valores NAN con la mediana\n",
    "def llenar_nan(df, columna):\n",
    "    mediana = df_games['Year'].median()\n",
    "    df[columna] = df[columna].fillna(mediana)\n",
    "    return df \n",
    "\n",
    "df_games = llenar_nan(df_games, 'Year')"
   ]
  },
  {
   "cell_type": "code",
   "execution_count": 107,
   "metadata": {},
   "outputs": [],
   "source": [
    "def null(df, decimales=2):\n",
    "    \"\"\"\n",
    "    Vamos a observar cuantos valores falatantes hay en el dataset\n",
    "    \"\"\"\n",
    "    df_nulos = pd.DataFrame({\n",
    "        \"Numeros de nulos\" : df.isnull().sum(),\n",
    "        \"Porcentaje de nulos\" : (df.isnull().sum() / df.shape[0]) * 100.0\n",
    "    })\n",
    "    df_nulos['Porcentaje de nulos'] = df_nulos['Porcentaje de nulos'].round(decimales).astype(str) + \"%\"\n",
    "    return df_nulos"
   ]
  },
  {
   "cell_type": "code",
   "execution_count": 108,
   "metadata": {},
   "outputs": [
    {
     "data": {
      "text/html": [
       "<div>\n",
       "<style scoped>\n",
       "    .dataframe tbody tr th:only-of-type {\n",
       "        vertical-align: middle;\n",
       "    }\n",
       "\n",
       "    .dataframe tbody tr th {\n",
       "        vertical-align: top;\n",
       "    }\n",
       "\n",
       "    .dataframe thead th {\n",
       "        text-align: right;\n",
       "    }\n",
       "</style>\n",
       "<table border=\"1\" class=\"dataframe\">\n",
       "  <thead>\n",
       "    <tr style=\"text-align: right;\">\n",
       "      <th></th>\n",
       "      <th>Numeros de nulos</th>\n",
       "      <th>Porcentaje de nulos</th>\n",
       "    </tr>\n",
       "  </thead>\n",
       "  <tbody>\n",
       "    <tr>\n",
       "      <th>publisher</th>\n",
       "      <td>8001</td>\n",
       "      <td>25.13%</td>\n",
       "    </tr>\n",
       "    <tr>\n",
       "      <th>genres</th>\n",
       "      <td>3264</td>\n",
       "      <td>10.25%</td>\n",
       "    </tr>\n",
       "    <tr>\n",
       "      <th>app_name</th>\n",
       "      <td>2</td>\n",
       "      <td>0.01%</td>\n",
       "    </tr>\n",
       "    <tr>\n",
       "      <th>title</th>\n",
       "      <td>2036</td>\n",
       "      <td>6.4%</td>\n",
       "    </tr>\n",
       "    <tr>\n",
       "      <th>url</th>\n",
       "      <td>0</td>\n",
       "      <td>0.0%</td>\n",
       "    </tr>\n",
       "    <tr>\n",
       "      <th>release_date</th>\n",
       "      <td>2334</td>\n",
       "      <td>7.33%</td>\n",
       "    </tr>\n",
       "    <tr>\n",
       "      <th>tags</th>\n",
       "      <td>161</td>\n",
       "      <td>0.51%</td>\n",
       "    </tr>\n",
       "    <tr>\n",
       "      <th>reviews_url</th>\n",
       "      <td>2</td>\n",
       "      <td>0.01%</td>\n",
       "    </tr>\n",
       "    <tr>\n",
       "      <th>specs</th>\n",
       "      <td>612</td>\n",
       "      <td>1.92%</td>\n",
       "    </tr>\n",
       "    <tr>\n",
       "      <th>price</th>\n",
       "      <td>0</td>\n",
       "      <td>0.0%</td>\n",
       "    </tr>\n",
       "    <tr>\n",
       "      <th>early_access</th>\n",
       "      <td>0</td>\n",
       "      <td>0.0%</td>\n",
       "    </tr>\n",
       "    <tr>\n",
       "      <th>id</th>\n",
       "      <td>2</td>\n",
       "      <td>0.01%</td>\n",
       "    </tr>\n",
       "    <tr>\n",
       "      <th>developer</th>\n",
       "      <td>3282</td>\n",
       "      <td>10.31%</td>\n",
       "    </tr>\n",
       "    <tr>\n",
       "      <th>Zscore_price</th>\n",
       "      <td>0</td>\n",
       "      <td>0.0%</td>\n",
       "    </tr>\n",
       "    <tr>\n",
       "      <th>Year</th>\n",
       "      <td>0</td>\n",
       "      <td>0.0%</td>\n",
       "    </tr>\n",
       "  </tbody>\n",
       "</table>\n",
       "</div>"
      ],
      "text/plain": [
       "              Numeros de nulos Porcentaje de nulos\n",
       "publisher                 8001              25.13%\n",
       "genres                    3264              10.25%\n",
       "app_name                     2               0.01%\n",
       "title                     2036                6.4%\n",
       "url                          0                0.0%\n",
       "release_date              2334               7.33%\n",
       "tags                       161               0.51%\n",
       "reviews_url                  2               0.01%\n",
       "specs                      612               1.92%\n",
       "price                        0                0.0%\n",
       "early_access                 0                0.0%\n",
       "id                           2               0.01%\n",
       "developer                 3282              10.31%\n",
       "Zscore_price                 0                0.0%\n",
       "Year                         0                0.0%"
      ]
     },
     "execution_count": 108,
     "metadata": {},
     "output_type": "execute_result"
    }
   ],
   "source": [
    "null(df_games, decimales= 2)"
   ]
  },
  {
   "cell_type": "code",
   "execution_count": 109,
   "metadata": {},
   "outputs": [],
   "source": [
    "# Eliminaremos las columnas no necesarias\n",
    "df_games = df_games.drop(columns=['release_date', 'Zscore_price', 'early_access', 'title'])"
   ]
  },
  {
   "cell_type": "code",
   "execution_count": 110,
   "metadata": {},
   "outputs": [],
   "source": [
    "# Eliminaremos filas con valores faltantes muy bajos\n",
    "df_games = df_games.dropna(subset=['id'])\n",
    "df_games = df_games.dropna(subset=['reviews_url'])\n",
    "df_games = df_games.dropna(subset=['app_name'])"
   ]
  },
  {
   "cell_type": "markdown",
   "metadata": {},
   "source": [
    "Como sabes tenemos valores faltantes en cada columna anidada:\n",
    "+ genres hay 3264\n",
    "+ tags hay 161\n",
    "+ specs hay 612\n",
    "\n",
    "Podemos aplicar algunas tecnicas de imputacion de valores faltantes, pero teniendo en cuenta que el proyecto es un MLops, optaremos por la eliminacion de los datos faltantes. "
   ]
  },
  {
   "cell_type": "code",
   "execution_count": 111,
   "metadata": {},
   "outputs": [],
   "source": [
    "# Eliminammos las filas con valores faltantes en la columna genres\n",
    "df_games = df_games.dropna(subset=['genres'])\n",
    "# Ahora eliminamos las filas con valores faltantes en la columna specs\n",
    "df_games = df_games.dropna(subset=['specs'])\n",
    "# finalmente eliminamos las filas con valores faltantes en la columna tags\n",
    "df_games = df_games.dropna(subset=['tags'])"
   ]
  },
  {
   "cell_type": "markdown",
   "metadata": {},
   "source": [
    "Antes de continuar, vamos a eliminar la columna Publisher y completar las filas con valores faltantes con el valor 'SD' que significa sin datos para la columna developer."
   ]
  },
  {
   "cell_type": "code",
   "execution_count": 112,
   "metadata": {},
   "outputs": [],
   "source": [
    "# Eliminamos la columna publisher\n",
    "df_games = df_games.drop(columns=['publisher'])"
   ]
  },
  {
   "cell_type": "code",
   "execution_count": 113,
   "metadata": {},
   "outputs": [],
   "source": [
    "# Remplazamos los valores faltantes (NAN) con SD\n",
    "df_games['developer'].replace(['', None], 'SD', inplace=True)"
   ]
  },
  {
   "cell_type": "code",
   "execution_count": 114,
   "metadata": {},
   "outputs": [
    {
     "data": {
      "text/html": [
       "<div>\n",
       "<style scoped>\n",
       "    .dataframe tbody tr th:only-of-type {\n",
       "        vertical-align: middle;\n",
       "    }\n",
       "\n",
       "    .dataframe tbody tr th {\n",
       "        vertical-align: top;\n",
       "    }\n",
       "\n",
       "    .dataframe thead th {\n",
       "        text-align: right;\n",
       "    }\n",
       "</style>\n",
       "<table border=\"1\" class=\"dataframe\">\n",
       "  <thead>\n",
       "    <tr style=\"text-align: right;\">\n",
       "      <th></th>\n",
       "      <th>Numeros de nulos</th>\n",
       "      <th>Porcentaje de nulos</th>\n",
       "    </tr>\n",
       "  </thead>\n",
       "  <tbody>\n",
       "    <tr>\n",
       "      <th>genres</th>\n",
       "      <td>0</td>\n",
       "      <td>0.0%</td>\n",
       "    </tr>\n",
       "    <tr>\n",
       "      <th>app_name</th>\n",
       "      <td>0</td>\n",
       "      <td>0.0%</td>\n",
       "    </tr>\n",
       "    <tr>\n",
       "      <th>url</th>\n",
       "      <td>0</td>\n",
       "      <td>0.0%</td>\n",
       "    </tr>\n",
       "    <tr>\n",
       "      <th>tags</th>\n",
       "      <td>0</td>\n",
       "      <td>0.0%</td>\n",
       "    </tr>\n",
       "    <tr>\n",
       "      <th>reviews_url</th>\n",
       "      <td>0</td>\n",
       "      <td>0.0%</td>\n",
       "    </tr>\n",
       "    <tr>\n",
       "      <th>specs</th>\n",
       "      <td>0</td>\n",
       "      <td>0.0%</td>\n",
       "    </tr>\n",
       "    <tr>\n",
       "      <th>price</th>\n",
       "      <td>0</td>\n",
       "      <td>0.0%</td>\n",
       "    </tr>\n",
       "    <tr>\n",
       "      <th>id</th>\n",
       "      <td>0</td>\n",
       "      <td>0.0%</td>\n",
       "    </tr>\n",
       "    <tr>\n",
       "      <th>developer</th>\n",
       "      <td>0</td>\n",
       "      <td>0.0%</td>\n",
       "    </tr>\n",
       "    <tr>\n",
       "      <th>Year</th>\n",
       "      <td>0</td>\n",
       "      <td>0.0%</td>\n",
       "    </tr>\n",
       "  </tbody>\n",
       "</table>\n",
       "</div>"
      ],
      "text/plain": [
       "             Numeros de nulos Porcentaje de nulos\n",
       "genres                      0                0.0%\n",
       "app_name                    0                0.0%\n",
       "url                         0                0.0%\n",
       "tags                        0                0.0%\n",
       "reviews_url                 0                0.0%\n",
       "specs                       0                0.0%\n",
       "price                       0                0.0%\n",
       "id                          0                0.0%\n",
       "developer                   0                0.0%\n",
       "Year                        0                0.0%"
      ]
     },
     "execution_count": 114,
     "metadata": {},
     "output_type": "execute_result"
    }
   ],
   "source": [
    "# Verifiquemos si todavia hay valores faltantes\n",
    "null(df_games, decimales=2)"
   ]
  },
  {
   "cell_type": "code",
   "execution_count": 115,
   "metadata": {},
   "outputs": [
    {
     "data": {
      "text/plain": [
       "28316"
      ]
     },
     "execution_count": 115,
     "metadata": {},
     "output_type": "execute_result"
    }
   ],
   "source": [
    "# Veamos cuantas registros tenemos antes de desanidar.\n",
    "df_games.shape[0]"
   ]
  },
  {
   "cell_type": "code",
   "execution_count": 116,
   "metadata": {},
   "outputs": [
    {
     "data": {
      "text/plain": [
       "genres\n",
       "[Action]                                                1853\n",
       "[Action, Indie]                                         1648\n",
       "[Simulation]                                            1382\n",
       "[Casual, Simulation]                                    1359\n",
       "[Action, Adventure, Indie]                              1080\n",
       "                                                        ... \n",
       "[Action, Adventure, Free to Play, RPG, Early Access]       1\n",
       "[Adventure, Free to Play, Indie, RPG, Strategy]            1\n",
       "[Action, Casual, Indie, RPG, Sports]                       1\n",
       "[Action, Casual, RPG, Strategy]                            1\n",
       "[Adventure, Casual, RPG, Simulation, Early Access]         1\n",
       "Name: count, Length: 838, dtype: int64"
      ]
     },
     "execution_count": 116,
     "metadata": {},
     "output_type": "execute_result"
    }
   ],
   "source": [
    "# Veamos la columna anidada, antes del cambio \n",
    "filtro  = df_games['genres'].value_counts()\n",
    "filtro"
   ]
  },
  {
   "cell_type": "code",
   "execution_count": 117,
   "metadata": {},
   "outputs": [
    {
     "data": {
      "text/plain": [
       "specs\n",
       "[Single-player]                                                                                                                                                                                                                                         2760\n",
       "[Single-player, Downloadable Content]                                                                                                                                                                                                                   1183\n",
       "[Single-player, Shared/Split Screen, Downloadable Content, Steam Achievements, Steam Trading Cards, Partial Controller Support, Steam Cloud, Steam Leaderboards]                                                                                        1015\n",
       "[Single-player, Steam Achievements]                                                                                                                                                                                                                      822\n",
       "[Multi-player, Co-op, Cross-Platform Multiplayer, Downloadable Content]                                                                                                                                                                                  754\n",
       "                                                                                                                                                                                                                                                        ... \n",
       "[Multi-player, Online Multi-Player, Co-op, Online Co-op, Steam Achievements, Steam Trading Cards]                                                                                                                                                          1\n",
       "[Single-player, Online Multi-Player, Steam Achievements, Full controller support, Steam Cloud]                                                                                                                                                             1\n",
       "[Single-player, Multi-player, Online Multi-Player, Local Multi-Player, Shared/Split Screen, Cross-Platform Multiplayer, Steam Achievements, Full controller support, Steam Trading Cards, Steam Workshop, Steam Leaderboards, Includes level editor]       1\n",
       "[Single-player, Multi-player, Online Multi-Player, Local Multi-Player, Co-op, Online Co-op, Local Co-op, Shared/Split Screen, Cross-Platform Multiplayer]                                                                                                  1\n",
       "[Multi-player, Co-op, Shared/Split Screen, Steam Achievements, Full controller support, Steam Trading Cards]                                                                                                                                               1\n",
       "Name: count, Length: 3756, dtype: int64"
      ]
     },
     "execution_count": 117,
     "metadata": {},
     "output_type": "execute_result"
    }
   ],
   "source": [
    "# Veamos la columna anidada, antes del cambio \n",
    "filtro_specs = df_games['specs'].value_counts()\n",
    "filtro_specs"
   ]
  },
  {
   "cell_type": "code",
   "execution_count": 118,
   "metadata": {},
   "outputs": [
    {
     "data": {
      "text/plain": [
       "tags\n",
       "[Casual, Simulation]                                                         1289\n",
       "[Action]                                                                     1098\n",
       "[Simulation]                                                                 1074\n",
       "[Strategy, RPG, Indie]                                                        630\n",
       "[Strategy]                                                                    621\n",
       "                                                                             ... \n",
       "[Indie, Casual, Puzzle, 2D, Family Friendly]                                    1\n",
       "[Early Access, Simulation, Strategy, Indie, Sports, e-sports, Management]       1\n",
       "[Racing, Multiplayer, Action]                                                   1\n",
       "[Action, Casual, Indie, Arcade, 2D, Top-Down]                                   1\n",
       "[Indie, Casual, Puzzle, Singleplayer, Atmospheric, Relaxing]                    1\n",
       "Name: count, Length: 13421, dtype: int64"
      ]
     },
     "execution_count": 118,
     "metadata": {},
     "output_type": "execute_result"
    }
   ],
   "source": [
    "# Veamos la columna anidada, antes del cambio \n",
    "filtro_tags = df_games['tags'].value_counts()\n",
    "filtro_tags"
   ]
  },
  {
   "cell_type": "code",
   "execution_count": 119,
   "metadata": {},
   "outputs": [
    {
     "name": "stdout",
     "output_type": "stream",
     "text": [
      "La columna genres tiene 28316 valores no nulos.\n",
      "La columna tags tiene 28316 valores no nulos.\n",
      "La columna specs tiene 28316 valores no nulos.\n",
      "Las columnas genres, tags y specs tienen la misma cantidad de filas.\n"
     ]
    }
   ],
   "source": [
    "# Verifica el número de valores no nulos en cada columna\n",
    "columnas_a_verificar = ['genres', 'tags', 'specs']\n",
    "for columna in columnas_a_verificar:\n",
    "  numero_no_nulos = df_games[columna].notnull().sum()\n",
    "  print(f'La columna {columna} tiene {numero_no_nulos} valores no nulos.')\n",
    "\n",
    "# Comprueba si todos los valores son iguales\n",
    "if df_games[columnas_a_verificar].notnull().sum().all():\n",
    "  print('Las columnas genres, tags y specs tienen la misma cantidad de filas.')\n",
    "else:\n",
    "  print('Las columnas genres, tags y specs NO tienen la misma cantidad de filas.')\n"
   ]
  },
  {
   "cell_type": "code",
   "execution_count": 120,
   "metadata": {},
   "outputs": [],
   "source": [
    "df_genres = df_games[['id', 'genres']].explode('genres')\n",
    "df_tags = df_games[['id', 'tags']].explode('tags')\n",
    "df_specs = df_games[['id', 'specs']].explode('specs')"
   ]
  },
  {
   "cell_type": "code",
   "execution_count": 121,
   "metadata": {},
   "outputs": [
    {
     "name": "stdout",
     "output_type": "stream",
     "text": [
      "tenemmos estas filas en la columna genres: 70317\n",
      "tenemmos estas filas en la columna tags: 152852\n",
      "tenemmos estas filas en la columna specs: 126551\n"
     ]
    }
   ],
   "source": [
    "# Veamos cada columna como quedo en numero de filas \n",
    "print(\"tenemmos estas filas en la columna genres:\", df_genres.shape[0])\n",
    "print(\"tenemmos estas filas en la columna tags:\",df_tags.shape[0])\n",
    "print(\"tenemmos estas filas en la columna specs:\",df_specs.shape[0])"
   ]
  },
  {
   "cell_type": "markdown",
   "metadata": {},
   "source": [
    "Cada columna luego de desanidar vemos que tienen diferentes longitudes, ahora vamos a unir esas columnas con el dataset general con el metodo merge."
   ]
  },
  {
   "cell_type": "code",
   "execution_count": 122,
   "metadata": {},
   "outputs": [],
   "source": [
    "# Combinamos genres con el datasets general \n",
    "df_temp = pd.merge(df_games.drop(columns=['genres', 'tags', 'specs']), df_genres, on='id', how='outer')\n",
    "# Combina df_temp con df_tags\n",
    "df_temp = pd.merge(df_temp, df_tags, on='id', how='outer')\n",
    "# Finalmente combina df_temp con df_specs\n",
    "df_combined = pd.merge(df_temp, df_specs, on='id', how='outer')"
   ]
  },
  {
   "cell_type": "code",
   "execution_count": 123,
   "metadata": {},
   "outputs": [
    {
     "data": {
      "text/html": [
       "<div>\n",
       "<style scoped>\n",
       "    .dataframe tbody tr th:only-of-type {\n",
       "        vertical-align: middle;\n",
       "    }\n",
       "\n",
       "    .dataframe tbody tr th {\n",
       "        vertical-align: top;\n",
       "    }\n",
       "\n",
       "    .dataframe thead th {\n",
       "        text-align: right;\n",
       "    }\n",
       "</style>\n",
       "<table border=\"1\" class=\"dataframe\">\n",
       "  <thead>\n",
       "    <tr style=\"text-align: right;\">\n",
       "      <th></th>\n",
       "      <th>app_name</th>\n",
       "      <th>url</th>\n",
       "      <th>reviews_url</th>\n",
       "      <th>price</th>\n",
       "      <th>id</th>\n",
       "      <th>developer</th>\n",
       "      <th>Year</th>\n",
       "      <th>genres</th>\n",
       "      <th>tags</th>\n",
       "      <th>specs</th>\n",
       "    </tr>\n",
       "  </thead>\n",
       "  <tbody>\n",
       "    <tr>\n",
       "      <th>693245</th>\n",
       "      <td>Demise of Nations</td>\n",
       "      <td>http://store.steampowered.com/app/338810/Demis...</td>\n",
       "      <td>http://steamcommunity.com/app/338810/reviews/?...</td>\n",
       "      <td>0.00</td>\n",
       "      <td>338810.0</td>\n",
       "      <td>Noble Master LLC</td>\n",
       "      <td>2017</td>\n",
       "      <td>Free to Play</td>\n",
       "      <td>Free to Play</td>\n",
       "      <td>Online Multi-Player</td>\n",
       "    </tr>\n",
       "    <tr>\n",
       "      <th>279219</th>\n",
       "      <td>A Sirius Game</td>\n",
       "      <td>http://store.steampowered.com/app/392930/A_Sir...</td>\n",
       "      <td>http://steamcommunity.com/app/392930/reviews/?...</td>\n",
       "      <td>4.99</td>\n",
       "      <td>392930.0</td>\n",
       "      <td>Overcloud9, Phantasm Games</td>\n",
       "      <td>2015</td>\n",
       "      <td>RPG</td>\n",
       "      <td>Casual</td>\n",
       "      <td>Single-player</td>\n",
       "    </tr>\n",
       "    <tr>\n",
       "      <th>933499</th>\n",
       "      <td>JumpFist</td>\n",
       "      <td>http://store.steampowered.com/app/707470/JumpF...</td>\n",
       "      <td>http://steamcommunity.com/app/707470/reviews/?...</td>\n",
       "      <td>4.99</td>\n",
       "      <td>707470.0</td>\n",
       "      <td>BoomCat Studios</td>\n",
       "      <td>2017</td>\n",
       "      <td>Casual</td>\n",
       "      <td>Indie</td>\n",
       "      <td>Single-player</td>\n",
       "    </tr>\n",
       "    <tr>\n",
       "      <th>883605</th>\n",
       "      <td>Sword Art Online: Hollow Realization Deluxe Ed...</td>\n",
       "      <td>http://store.steampowered.com/app/607890/Sword...</td>\n",
       "      <td>http://steamcommunity.com/app/607890/reviews/?...</td>\n",
       "      <td>49.99</td>\n",
       "      <td>607890.0</td>\n",
       "      <td>AQURIA</td>\n",
       "      <td>2017</td>\n",
       "      <td>Adventure</td>\n",
       "      <td>Nudity</td>\n",
       "      <td>Steam Achievements</td>\n",
       "    </tr>\n",
       "    <tr>\n",
       "      <th>33012</th>\n",
       "      <td>Call of Duty®: Modern Warfare® 3</td>\n",
       "      <td>http://store.steampowered.com/app/115300/Call_...</td>\n",
       "      <td>http://steamcommunity.com/app/115300/reviews/?...</td>\n",
       "      <td>39.99</td>\n",
       "      <td>115300.0</td>\n",
       "      <td>Infinity Ward,Sledgehammer Games,Aspyr (Mac)</td>\n",
       "      <td>2011</td>\n",
       "      <td>Action</td>\n",
       "      <td>Adventure</td>\n",
       "      <td>Steam Achievements</td>\n",
       "    </tr>\n",
       "  </tbody>\n",
       "</table>\n",
       "</div>"
      ],
      "text/plain": [
       "                                                 app_name  \\\n",
       "693245                                  Demise of Nations   \n",
       "279219                                      A Sirius Game   \n",
       "933499                                           JumpFist   \n",
       "883605  Sword Art Online: Hollow Realization Deluxe Ed...   \n",
       "33012                    Call of Duty®: Modern Warfare® 3   \n",
       "\n",
       "                                                      url  \\\n",
       "693245  http://store.steampowered.com/app/338810/Demis...   \n",
       "279219  http://store.steampowered.com/app/392930/A_Sir...   \n",
       "933499  http://store.steampowered.com/app/707470/JumpF...   \n",
       "883605  http://store.steampowered.com/app/607890/Sword...   \n",
       "33012   http://store.steampowered.com/app/115300/Call_...   \n",
       "\n",
       "                                              reviews_url  price        id  \\\n",
       "693245  http://steamcommunity.com/app/338810/reviews/?...   0.00  338810.0   \n",
       "279219  http://steamcommunity.com/app/392930/reviews/?...   4.99  392930.0   \n",
       "933499  http://steamcommunity.com/app/707470/reviews/?...   4.99  707470.0   \n",
       "883605  http://steamcommunity.com/app/607890/reviews/?...  49.99  607890.0   \n",
       "33012   http://steamcommunity.com/app/115300/reviews/?...  39.99  115300.0   \n",
       "\n",
       "                                           developer  Year        genres  \\\n",
       "693245                              Noble Master LLC  2017  Free to Play   \n",
       "279219                    Overcloud9, Phantasm Games  2015           RPG   \n",
       "933499                               BoomCat Studios  2017        Casual   \n",
       "883605                                        AQURIA  2017     Adventure   \n",
       "33012   Infinity Ward,Sledgehammer Games,Aspyr (Mac)  2011        Action   \n",
       "\n",
       "                tags                specs  \n",
       "693245  Free to Play  Online Multi-Player  \n",
       "279219        Casual        Single-player  \n",
       "933499         Indie        Single-player  \n",
       "883605        Nudity   Steam Achievements  \n",
       "33012      Adventure   Steam Achievements  "
      ]
     },
     "execution_count": 123,
     "metadata": {},
     "output_type": "execute_result"
    }
   ],
   "source": [
    "df_combined.sample(5)"
   ]
  },
  {
   "cell_type": "code",
   "execution_count": 124,
   "metadata": {},
   "outputs": [
    {
     "data": {
      "text/plain": [
       "1977302"
      ]
     },
     "execution_count": 124,
     "metadata": {},
     "output_type": "execute_result"
    }
   ],
   "source": [
    "# Veamos cuantas registros tenemos despues de desanidar.\n",
    "df_combined.shape[0]"
   ]
  },
  {
   "cell_type": "markdown",
   "metadata": {},
   "source": [
    "Tenemos una total de casi 2 millones de registros despues de desanidar, veamos si hay valores faltantes"
   ]
  },
  {
   "cell_type": "code",
   "execution_count": 125,
   "metadata": {},
   "outputs": [
    {
     "data": {
      "text/html": [
       "<div>\n",
       "<style scoped>\n",
       "    .dataframe tbody tr th:only-of-type {\n",
       "        vertical-align: middle;\n",
       "    }\n",
       "\n",
       "    .dataframe tbody tr th {\n",
       "        vertical-align: top;\n",
       "    }\n",
       "\n",
       "    .dataframe thead th {\n",
       "        text-align: right;\n",
       "    }\n",
       "</style>\n",
       "<table border=\"1\" class=\"dataframe\">\n",
       "  <thead>\n",
       "    <tr style=\"text-align: right;\">\n",
       "      <th></th>\n",
       "      <th>Numeros de nulos</th>\n",
       "      <th>Porcentaje de nulos</th>\n",
       "    </tr>\n",
       "  </thead>\n",
       "  <tbody>\n",
       "    <tr>\n",
       "      <th>app_name</th>\n",
       "      <td>0</td>\n",
       "      <td>0.0%</td>\n",
       "    </tr>\n",
       "    <tr>\n",
       "      <th>url</th>\n",
       "      <td>0</td>\n",
       "      <td>0.0%</td>\n",
       "    </tr>\n",
       "    <tr>\n",
       "      <th>reviews_url</th>\n",
       "      <td>0</td>\n",
       "      <td>0.0%</td>\n",
       "    </tr>\n",
       "    <tr>\n",
       "      <th>price</th>\n",
       "      <td>0</td>\n",
       "      <td>0.0%</td>\n",
       "    </tr>\n",
       "    <tr>\n",
       "      <th>id</th>\n",
       "      <td>0</td>\n",
       "      <td>0.0%</td>\n",
       "    </tr>\n",
       "    <tr>\n",
       "      <th>developer</th>\n",
       "      <td>0</td>\n",
       "      <td>0.0%</td>\n",
       "    </tr>\n",
       "    <tr>\n",
       "      <th>Year</th>\n",
       "      <td>0</td>\n",
       "      <td>0.0%</td>\n",
       "    </tr>\n",
       "    <tr>\n",
       "      <th>genres</th>\n",
       "      <td>0</td>\n",
       "      <td>0.0%</td>\n",
       "    </tr>\n",
       "    <tr>\n",
       "      <th>tags</th>\n",
       "      <td>0</td>\n",
       "      <td>0.0%</td>\n",
       "    </tr>\n",
       "    <tr>\n",
       "      <th>specs</th>\n",
       "      <td>0</td>\n",
       "      <td>0.0%</td>\n",
       "    </tr>\n",
       "  </tbody>\n",
       "</table>\n",
       "</div>"
      ],
      "text/plain": [
       "             Numeros de nulos Porcentaje de nulos\n",
       "app_name                    0                0.0%\n",
       "url                         0                0.0%\n",
       "reviews_url                 0                0.0%\n",
       "price                       0                0.0%\n",
       "id                          0                0.0%\n",
       "developer                   0                0.0%\n",
       "Year                        0                0.0%\n",
       "genres                      0                0.0%\n",
       "tags                        0                0.0%\n",
       "specs                       0                0.0%"
      ]
     },
     "execution_count": 125,
     "metadata": {},
     "output_type": "execute_result"
    }
   ],
   "source": [
    "null(df_combined, decimales=2)"
   ]
  },
  {
   "cell_type": "code",
   "execution_count": 126,
   "metadata": {},
   "outputs": [],
   "source": [
    "def suma_duplicados(df):\n",
    "    df_duplicados = pd.DataFrame({\n",
    "        \"Numero de Duplicados\" :  df[df.duplicated()].sum(),\n",
    "        \"Porcentaje de Duplicados\" : (df[df.duplicated()].sum() / df.shape[0]) * 100.0\n",
    "    })\n",
    "    df_duplicados[\"Porcentaje de Duplicados\"] = df_duplicados[\"Porcentaje de Duplicados\"].astype(str) + \"%\"\n",
    "    return df_duplicados"
   ]
  },
  {
   "cell_type": "code",
   "execution_count": 127,
   "metadata": {},
   "outputs": [
    {
     "data": {
      "text/html": [
       "<div>\n",
       "<style scoped>\n",
       "    .dataframe tbody tr th:only-of-type {\n",
       "        vertical-align: middle;\n",
       "    }\n",
       "\n",
       "    .dataframe tbody tr th {\n",
       "        vertical-align: top;\n",
       "    }\n",
       "\n",
       "    .dataframe thead th {\n",
       "        text-align: right;\n",
       "    }\n",
       "</style>\n",
       "<table border=\"1\" class=\"dataframe\">\n",
       "  <thead>\n",
       "    <tr style=\"text-align: right;\">\n",
       "      <th></th>\n",
       "      <th>Numero de Duplicados</th>\n",
       "      <th>Porcentaje de Duplicados</th>\n",
       "    </tr>\n",
       "  </thead>\n",
       "  <tbody>\n",
       "    <tr>\n",
       "      <th>app_name</th>\n",
       "      <td>0</td>\n",
       "      <td>0.0%</td>\n",
       "    </tr>\n",
       "    <tr>\n",
       "      <th>url</th>\n",
       "      <td>0</td>\n",
       "      <td>0.0%</td>\n",
       "    </tr>\n",
       "    <tr>\n",
       "      <th>reviews_url</th>\n",
       "      <td>0</td>\n",
       "      <td>0.0%</td>\n",
       "    </tr>\n",
       "    <tr>\n",
       "      <th>price</th>\n",
       "      <td>0.0</td>\n",
       "      <td>0.0%</td>\n",
       "    </tr>\n",
       "    <tr>\n",
       "      <th>id</th>\n",
       "      <td>0.0</td>\n",
       "      <td>0.0%</td>\n",
       "    </tr>\n",
       "    <tr>\n",
       "      <th>developer</th>\n",
       "      <td>0</td>\n",
       "      <td>0.0%</td>\n",
       "    </tr>\n",
       "    <tr>\n",
       "      <th>Year</th>\n",
       "      <td>0</td>\n",
       "      <td>0.0%</td>\n",
       "    </tr>\n",
       "    <tr>\n",
       "      <th>genres</th>\n",
       "      <td>0</td>\n",
       "      <td>0.0%</td>\n",
       "    </tr>\n",
       "    <tr>\n",
       "      <th>tags</th>\n",
       "      <td>0</td>\n",
       "      <td>0.0%</td>\n",
       "    </tr>\n",
       "    <tr>\n",
       "      <th>specs</th>\n",
       "      <td>0</td>\n",
       "      <td>0.0%</td>\n",
       "    </tr>\n",
       "  </tbody>\n",
       "</table>\n",
       "</div>"
      ],
      "text/plain": [
       "            Numero de Duplicados Porcentaje de Duplicados\n",
       "app_name                       0                     0.0%\n",
       "url                            0                     0.0%\n",
       "reviews_url                    0                     0.0%\n",
       "price                        0.0                     0.0%\n",
       "id                           0.0                     0.0%\n",
       "developer                      0                     0.0%\n",
       "Year                           0                     0.0%\n",
       "genres                         0                     0.0%\n",
       "tags                           0                     0.0%\n",
       "specs                          0                     0.0%"
      ]
     },
     "execution_count": 127,
     "metadata": {},
     "output_type": "execute_result"
    }
   ],
   "source": [
    "suma_duplicados(df_combined)"
   ]
  },
  {
   "cell_type": "markdown",
   "metadata": {},
   "source": [
    "Como ultimos cambios para ya tener el dataset listo para las consultas, vamos a cambiar el tipo de dato y algunas columnas el nombre "
   ]
  },
  {
   "cell_type": "code",
   "execution_count": 128,
   "metadata": {},
   "outputs": [],
   "source": [
    "#Cambiamos los nombres de las columnas \n",
    "df_combined.rename(columns={'app_name' : 'name', 'id': 'item_id' }, inplace=True)"
   ]
  },
  {
   "cell_type": "code",
   "execution_count": 129,
   "metadata": {},
   "outputs": [
    {
     "name": "stdout",
     "output_type": "stream",
     "text": [
      "<class 'pandas.core.frame.DataFrame'>\n",
      "RangeIndex: 1977302 entries, 0 to 1977301\n",
      "Data columns (total 10 columns):\n",
      " #   Column       Dtype  \n",
      "---  ------       -----  \n",
      " 0   name         object \n",
      " 1   url          object \n",
      " 2   reviews_url  object \n",
      " 3   price        float64\n",
      " 4   item_id      float64\n",
      " 5   developer    object \n",
      " 6   Year         Int64  \n",
      " 7   genres       object \n",
      " 8   tags         object \n",
      " 9   specs        object \n",
      "dtypes: Int64(1), float64(2), object(7)\n",
      "memory usage: 152.7+ MB\n"
     ]
    }
   ],
   "source": [
    "df_combined.info()"
   ]
  },
  {
   "cell_type": "code",
   "execution_count": 130,
   "metadata": {},
   "outputs": [],
   "source": [
    "convert_dict ={\n",
    "    'item_id'       : 'int32',\n",
    "    'name'          : 'string',\n",
    "    'price'         : 'float32',\n",
    "    'Year'          : 'int32',\n",
    "    'developer'     : 'category',\n",
    "    'genres'        : 'category',\n",
    "    'tags'          : 'category',\n",
    "    'specs'         : 'category',\n",
    "    'url'           : 'string',\n",
    "    'reviews_url'   : 'string'\n",
    "}\n",
    "df_combined = df_combined.astype(convert_dict)"
   ]
  },
  {
   "cell_type": "code",
   "execution_count": 131,
   "metadata": {},
   "outputs": [
    {
     "name": "stdout",
     "output_type": "stream",
     "text": [
      "<class 'pandas.core.frame.DataFrame'>\n",
      "RangeIndex: 1977302 entries, 0 to 1977301\n",
      "Data columns (total 10 columns):\n",
      " #   Column       Dtype   \n",
      "---  ------       -----   \n",
      " 0   name         string  \n",
      " 1   url          string  \n",
      " 2   reviews_url  string  \n",
      " 3   price        float32 \n",
      " 4   item_id      int32   \n",
      " 5   developer    category\n",
      " 6   Year         int32   \n",
      " 7   genres       category\n",
      " 8   tags         category\n",
      " 9   specs        category\n",
      "dtypes: category(4), float32(1), int32(2), string(3)\n",
      "memory usage: 79.5 MB\n"
     ]
    }
   ],
   "source": [
    "df_combined.info()"
   ]
  },
  {
   "cell_type": "code",
   "execution_count": 132,
   "metadata": {},
   "outputs": [],
   "source": [
    "# Convertimos el archivo en parquet y en csv para el SQL.\n",
    "# Parquet \n",
    "# df_combined.to_parquet(\"steam_games.parquet\")\n",
    "# CSV\n",
    "# df_combined.to_csv(\"steam_games.csv\", index=False)"
   ]
  },
  {
   "cell_type": "markdown",
   "metadata": {},
   "source": [
    "***NLP Machine Learning***"
   ]
  },
  {
   "cell_type": "code",
   "execution_count": 1,
   "metadata": {},
   "outputs": [],
   "source": [
    "# Importamos librerias "
   ]
  },
  {
   "cell_type": "code",
   "execution_count": 43,
   "metadata": {},
   "outputs": [],
   "source": [
    "import re\n",
    "import nltk\n",
    "from nltk.stem.porter import PorterStemmer\n"
   ]
  },
  {
   "cell_type": "markdown",
   "metadata": {},
   "source": [
    "Normalizamos a los desarrolladores de Ubisoft-Francia, Latam == 'ubisoft'"
   ]
  },
  {
   "cell_type": "code",
   "execution_count": 133,
   "metadata": {},
   "outputs": [
    {
     "data": {
      "text/plain": [
       "developer\n",
       "Ubisoft - San Francisco                                                                                                                      1259\n",
       "Ubisoft Montreal                                                                                                                               85\n",
       "Ubisoft                                                                                                                                        45\n",
       "Ubisoft Quebec, in collaboration with Ubisoft Annecy, Bucharest, Kiev, Montreal, Montpellier, Shanghai, Singapore, Sofia, Toronto studios      10\n",
       "Ubisoft Montréal                                                                                                                                8\n",
       "Ubisoft Sofia,Ubisoft Kiev                                                                                                                      6\n",
       "Ubisoft Montreal, Red Storm, Shanghai, Toronto, Kiev                                                                                            6\n",
       "Ubisoft Paris,Red Storm Entertainment                                                                                                           5\n",
       "Uber Entertainment                                                                                                                              5\n",
       "Ubisoft Annecy,Ubisoft Montpellier,Ubisoft Kiev                                                                                                 5\n",
       "Ubisoft San Francisco                                                                                                                           4\n",
       "Ubisoft Entertainment                                                                                                                           4\n",
       "Ubisoft Romania                                                                                                                                 3\n",
       "Ubisoft Paris,Ubisoft Annecy,Ubisoft Bucharest,Ubisoft Montpellier,Ubisoft Milan,Reflections                                                    3\n",
       "Ubisoft Toronto                                                                                                                                 3\n",
       "Ubisoft Sofia                                                                                                                                   2\n",
       "Ubisoft  Shanghaï                                                                                                                               2\n",
       "Ubisoft Montpellier                                                                                                                             2\n",
       "Ubisoft Montreal, Massive Entertainment, and Ubisoft Shanghai                                                                                   2\n",
       "Ubisoft Reflections                                                                                                                             1\n",
       "Ubisoft – San Francisco                                                                                                                         1\n",
       "Ubisoft Montreal,Ubisoft Quebec,Ubisoft Toronto,Blue Byte                                                                                       1\n",
       "Ubisoft Paris,Ubisoft Pune                                                                                                                      1\n",
       "Ubisoft Pune                                                                                                                                    1\n",
       "Ubisoft Paris,Ubisoft Annecy,Ubisoft Bucharest,Ubisoft Montpellier,Ubisoft Milan,Reflections,Ubisoft Belgrade                                   1\n",
       "Ubisoft Annecy,Ubisoft Montpellier,Ubisoft Kiev,Ubisoft Belgrade                                                                                1\n",
       "Ubisoft - San Franciscos                                                                                                                        1\n",
       "Ubisoft Bulgaria,Ubisoft Montpellier                                                                                                            1\n",
       "Ubisoft Blue Byte Studio                                                                                                                        1\n",
       "Name: count, dtype: int64"
      ]
     },
     "execution_count": 133,
     "metadata": {},
     "output_type": "execute_result"
    }
   ],
   "source": [
    "# Solo queremos ver esta columnas\n",
    "deve = df_games[['developer']]\n",
    "# Buscamos todos los desarrolladores que comienzen la letra 'UB'\n",
    "u_starting_developer_games = deve[deve['developer'].str.startswith('Ub', na=False)]\n",
    "\n",
    "# Veamos un recuento de cada desarrollador que se encontro\n",
    "count_d = u_starting_developer_games['developer'].value_counts()\n",
    "count_d"
   ]
  },
  {
   "cell_type": "code",
   "execution_count": 134,
   "metadata": {},
   "outputs": [],
   "source": [
    "# Isntanciamos el poter \n",
    "stemmer = PorterStemmer()\n",
    "\n",
    "def normalize_developer(name):\n",
    "    name = re.sub(r'[\\W_]+', ' ', name) # Reemplazar caracteres especiales y múltiples espacios con un solo espacio\n",
    "    words = name.split()\n",
    "    stemmed_words = [stemmer.stem(word) for word in words]\n",
    "    normalized_name = ' '.join(stemmed_words)\n",
    "    if 'ubisoft' in normalized_name:\n",
    "        return 'ubisoft'\n",
    "    return normalized_name"
   ]
  },
  {
   "cell_type": "code",
   "execution_count": 135,
   "metadata": {},
   "outputs": [],
   "source": [
    "# aplicamos \n",
    "df_combined['normalized_developer']  = df_combined['developer'].apply(normalize_developer)"
   ]
  },
  {
   "cell_type": "code",
   "execution_count": 136,
   "metadata": {},
   "outputs": [
    {
     "data": {
      "text/html": [
       "<div>\n",
       "<style scoped>\n",
       "    .dataframe tbody tr th:only-of-type {\n",
       "        vertical-align: middle;\n",
       "    }\n",
       "\n",
       "    .dataframe tbody tr th {\n",
       "        vertical-align: top;\n",
       "    }\n",
       "\n",
       "    .dataframe thead th {\n",
       "        text-align: right;\n",
       "    }\n",
       "</style>\n",
       "<table border=\"1\" class=\"dataframe\">\n",
       "  <thead>\n",
       "    <tr style=\"text-align: right;\">\n",
       "      <th></th>\n",
       "      <th>name</th>\n",
       "      <th>url</th>\n",
       "      <th>reviews_url</th>\n",
       "      <th>price</th>\n",
       "      <th>item_id</th>\n",
       "      <th>developer</th>\n",
       "      <th>Year</th>\n",
       "      <th>genres</th>\n",
       "      <th>tags</th>\n",
       "      <th>specs</th>\n",
       "      <th>normalized_developer</th>\n",
       "    </tr>\n",
       "  </thead>\n",
       "  <tbody>\n",
       "    <tr>\n",
       "      <th>0</th>\n",
       "      <td>Lost Summoner Kitty</td>\n",
       "      <td>http://store.steampowered.com/app/761140/Lost_...</td>\n",
       "      <td>http://steamcommunity.com/app/761140/reviews/?...</td>\n",
       "      <td>4.99</td>\n",
       "      <td>761140</td>\n",
       "      <td>Kotoshiro</td>\n",
       "      <td>2018</td>\n",
       "      <td>Action</td>\n",
       "      <td>Strategy</td>\n",
       "      <td>Single-player</td>\n",
       "      <td>kotoshiro</td>\n",
       "    </tr>\n",
       "    <tr>\n",
       "      <th>1</th>\n",
       "      <td>Lost Summoner Kitty</td>\n",
       "      <td>http://store.steampowered.com/app/761140/Lost_...</td>\n",
       "      <td>http://steamcommunity.com/app/761140/reviews/?...</td>\n",
       "      <td>4.99</td>\n",
       "      <td>761140</td>\n",
       "      <td>Kotoshiro</td>\n",
       "      <td>2018</td>\n",
       "      <td>Action</td>\n",
       "      <td>Action</td>\n",
       "      <td>Single-player</td>\n",
       "      <td>kotoshiro</td>\n",
       "    </tr>\n",
       "    <tr>\n",
       "      <th>2</th>\n",
       "      <td>Lost Summoner Kitty</td>\n",
       "      <td>http://store.steampowered.com/app/761140/Lost_...</td>\n",
       "      <td>http://steamcommunity.com/app/761140/reviews/?...</td>\n",
       "      <td>4.99</td>\n",
       "      <td>761140</td>\n",
       "      <td>Kotoshiro</td>\n",
       "      <td>2018</td>\n",
       "      <td>Action</td>\n",
       "      <td>Indie</td>\n",
       "      <td>Single-player</td>\n",
       "      <td>kotoshiro</td>\n",
       "    </tr>\n",
       "    <tr>\n",
       "      <th>3</th>\n",
       "      <td>Lost Summoner Kitty</td>\n",
       "      <td>http://store.steampowered.com/app/761140/Lost_...</td>\n",
       "      <td>http://steamcommunity.com/app/761140/reviews/?...</td>\n",
       "      <td>4.99</td>\n",
       "      <td>761140</td>\n",
       "      <td>Kotoshiro</td>\n",
       "      <td>2018</td>\n",
       "      <td>Action</td>\n",
       "      <td>Casual</td>\n",
       "      <td>Single-player</td>\n",
       "      <td>kotoshiro</td>\n",
       "    </tr>\n",
       "  </tbody>\n",
       "</table>\n",
       "</div>"
      ],
      "text/plain": [
       "                  name                                                url  \\\n",
       "0  Lost Summoner Kitty  http://store.steampowered.com/app/761140/Lost_...   \n",
       "1  Lost Summoner Kitty  http://store.steampowered.com/app/761140/Lost_...   \n",
       "2  Lost Summoner Kitty  http://store.steampowered.com/app/761140/Lost_...   \n",
       "3  Lost Summoner Kitty  http://store.steampowered.com/app/761140/Lost_...   \n",
       "\n",
       "                                         reviews_url  price  item_id  \\\n",
       "0  http://steamcommunity.com/app/761140/reviews/?...   4.99   761140   \n",
       "1  http://steamcommunity.com/app/761140/reviews/?...   4.99   761140   \n",
       "2  http://steamcommunity.com/app/761140/reviews/?...   4.99   761140   \n",
       "3  http://steamcommunity.com/app/761140/reviews/?...   4.99   761140   \n",
       "\n",
       "   developer  Year  genres      tags          specs normalized_developer  \n",
       "0  Kotoshiro  2018  Action  Strategy  Single-player            kotoshiro  \n",
       "1  Kotoshiro  2018  Action    Action  Single-player            kotoshiro  \n",
       "2  Kotoshiro  2018  Action     Indie  Single-player            kotoshiro  \n",
       "3  Kotoshiro  2018  Action    Casual  Single-player            kotoshiro  "
      ]
     },
     "execution_count": 136,
     "metadata": {},
     "output_type": "execute_result"
    }
   ],
   "source": [
    "df_combined.sample(4)"
   ]
  },
  {
   "cell_type": "code",
   "execution_count": 137,
   "metadata": {},
   "outputs": [
    {
     "data": {
      "text/plain": [
       "normalized_developer\n",
       "ubisoft                                42487\n",
       "uber entertain                           900\n",
       "ubiart montpelli feral interact mac      120\n",
       "Name: count, dtype: int64"
      ]
     },
     "execution_count": 137,
     "metadata": {},
     "output_type": "execute_result"
    }
   ],
   "source": [
    "# Verificamos \n",
    "deve = df_combined[['normalized_developer']]\n",
    "# Buscamos todos los desarrolladores que comienzen la letra 'UB'\n",
    "u_starting_developer_games = deve[deve['normalized_developer'].str.startswith('ub', na=False)]\n",
    "\n",
    "# Veamos un recuento de cada desarrollador que se encontro\n",
    "count_d = u_starting_developer_games['normalized_developer'].value_counts()\n",
    "count_d"
   ]
  },
  {
   "cell_type": "code",
   "execution_count": 138,
   "metadata": {},
   "outputs": [],
   "source": [
    "# Cambiamos de dato \n",
    "df_combined['normalized_developer'] = df_combined['normalized_developer'].astype('category')"
   ]
  },
  {
   "cell_type": "code",
   "execution_count": 139,
   "metadata": {},
   "outputs": [],
   "source": [
    "# Elimnamos la columna developer \n",
    "df_combined = df_combined.drop(columns=['developer'])"
   ]
  },
  {
   "cell_type": "code",
   "execution_count": 140,
   "metadata": {},
   "outputs": [],
   "source": [
    "# Cambiamos el nombre a developer \n",
    "df_combined = df_combined.rename(columns={'normalized_developer': 'developer'})"
   ]
  },
  {
   "cell_type": "code",
   "execution_count": 141,
   "metadata": {},
   "outputs": [
    {
     "name": "stdout",
     "output_type": "stream",
     "text": [
      "<class 'pandas.core.frame.DataFrame'>\n",
      "RangeIndex: 1977302 entries, 0 to 1977301\n",
      "Data columns (total 10 columns):\n",
      " #   Column       Dtype   \n",
      "---  ------       -----   \n",
      " 0   name         string  \n",
      " 1   url          string  \n",
      " 2   reviews_url  string  \n",
      " 3   price        float32 \n",
      " 4   item_id      int32   \n",
      " 5   Year         int32   \n",
      " 6   genres       category\n",
      " 7   tags         category\n",
      " 8   specs        category\n",
      " 9   developer    category\n",
      "dtypes: category(4), float32(1), int32(2), string(3)\n",
      "memory usage: 79.5 MB\n"
     ]
    }
   ],
   "source": [
    "df_combined.info()"
   ]
  },
  {
   "cell_type": "code",
   "execution_count": 143,
   "metadata": {},
   "outputs": [],
   "source": [
    "# Parquet \n",
    "# df_combined.to_parquet(\"steam_games.parquet\")"
   ]
  }
 ],
 "metadata": {
  "kernelspec": {
   "display_name": "Python 3",
   "language": "python",
   "name": "python3"
  },
  "language_info": {
   "codemirror_mode": {
    "name": "ipython",
    "version": 3
   },
   "file_extension": ".py",
   "mimetype": "text/x-python",
   "name": "python",
   "nbconvert_exporter": "python",
   "pygments_lexer": "ipython3",
   "version": "3.11.9"
  }
 },
 "nbformat": 4,
 "nbformat_minor": 2
}
