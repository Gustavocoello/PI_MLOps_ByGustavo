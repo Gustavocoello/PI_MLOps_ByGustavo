{
 "cells": [
  {
   "cell_type": "markdown",
   "metadata": {},
   "source": [
    "# EDA (Exploratory Data Analysis)\n",
    "\n",
    " Consiste en investigar y comprender los datos mediante técnicas visuales y estadísticas para descubrir patrones, identificar anomalías, probar hipótesis y extraer información útil. <div>El EDA ayuda a los científicos de datos y analistas a obtener una comprensión inicial de los datos antes de aplicar modelos predictivos o análisis más avanzados."
   ]
  },
  {
   "cell_type": "code",
   "execution_count": 3,
   "metadata": {},
   "outputs": [],
   "source": [
    "# Importamos las librerias \n",
    "import seaborn as sns\n",
    "import matplotlib.pylab as plt\n",
    "import pandas as pd \n",
    "import numpy as np"
   ]
  },
  {
   "cell_type": "code",
   "execution_count": 4,
   "metadata": {},
   "outputs": [],
   "source": [
    "# traemos la data \n",
    "games = pd.read_parquet(\"D:\\Documentos\\Courses\\Henry\\Henry Students\\Labs\\Cohorte 07\\PI_1\\PI MLOps - STEAM\\Data\\parquet\\Datos Generales\\steam_games.parquet\")\n",
    "items = pd.read_parquet(\"D:\\Documentos\\Courses\\Henry\\Henry Students\\Labs\\Cohorte 07\\PI_1\\PI MLOps - STEAM\\Data\\parquet\\\\Datos Generales\\items.parquet\")\n",
    "reviews =pd.read_parquet(\"D:\\\\Documentos\\\\Courses\\\\Henry\\\\Henry Students\\\\Labs\\\\Cohorte 07\\\\PI_1\\\\PI MLOps - STEAM\\\\Data\\\\parquet\\\\Datos Generales\\\\reviews.parquet\")"
   ]
  },
  {
   "cell_type": "code",
   "execution_count": 5,
   "metadata": {},
   "outputs": [],
   "source": [
    "# Tener un punto de reinicio\n",
    "df_games  = pd.DataFrame(games)\n",
    "df_items = pd.DataFrame(items)\n",
    "df_reviews = pd.DataFrame(reviews)"
   ]
  }
 ],
 "metadata": {
  "kernelspec": {
   "display_name": "Python 3",
   "language": "python",
   "name": "python3"
  },
  "language_info": {
   "codemirror_mode": {
    "name": "ipython",
    "version": 3
   },
   "file_extension": ".py",
   "mimetype": "text/x-python",
   "name": "python",
   "nbconvert_exporter": "python",
   "pygments_lexer": "ipython3",
   "version": "3.11.9"
  }
 },
 "nbformat": 4,
 "nbformat_minor": 2
}
