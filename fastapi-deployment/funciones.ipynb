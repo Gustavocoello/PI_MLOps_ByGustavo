{
 "cells": [
  {
   "cell_type": "markdown",
   "metadata": {},
   "source": [
    "## Librery & Data "
   ]
  },
  {
   "cell_type": "code",
   "execution_count": 3,
   "metadata": {},
   "outputs": [],
   "source": [
    "# Importamos la librerias \n",
    "import pandas as pd \n",
    "import ast\n",
    "import sklearn "
   ]
  },
  {
   "cell_type": "code",
   "execution_count": 4,
   "metadata": {},
   "outputs": [],
   "source": [
    "# traemos la data \n",
    "games = pd.read_parquet(\"D:\\Documentos\\Courses\\Henry\\Henry Students\\Labs\\Cohorte 07\\PI_1\\PI MLOps - STEAM\\Data\\parquet\\Datos Generales\\steam_games.parquet\")\n",
    "items = pd.read_parquet(\"D:\\Documentos\\Courses\\Henry\\Henry Students\\Labs\\Cohorte 07\\PI_1\\PI MLOps - STEAM\\Data\\parquet\\\\Datos Generales\\items.parquet\")\n",
    "reviews =pd.read_parquet(\"D:\\\\Documentos\\\\Courses\\\\Henry\\\\Henry Students\\\\Labs\\\\Cohorte 07\\\\PI_1\\\\PI MLOps - STEAM\\\\Data\\\\parquet\\\\Datos Generales\\\\reviews.parquet\")"
   ]
  },
  {
   "cell_type": "code",
   "execution_count": 5,
   "metadata": {},
   "outputs": [],
   "source": [
    "# Tener un punto de reinicio\n",
    "df_games  = pd.DataFrame(games)\n",
    "df_items = pd.DataFrame(items)\n",
    "df_reviews = pd.DataFrame(reviews)"
   ]
  },
  {
   "cell_type": "markdown",
   "metadata": {},
   "source": [
    "#### Primera funcion\n",
    "def PlayTimeGenre( genero : str ): Debe devolver año con mas horas jugadas para dicho género.\n",
    "<div>Ejemplo de retorno: {\"Año de lanzamiento con más horas jugadas para Género X\" : 2013}</div>"
   ]
  },
  {
   "cell_type": "code",
   "execution_count": 6,
   "metadata": {},
   "outputs": [
    {
     "name": "stdout",
     "output_type": "stream",
     "text": [
      "<class 'pandas.core.frame.DataFrame'>\n",
      "Index: 32132 entries, 88310 to 120444\n",
      "Data columns (total 7 columns):\n",
      " #   Column     Non-Null Count  Dtype  \n",
      "---  ------     --------------  -----  \n",
      " 0   genres     32132 non-null  object \n",
      " 1   name       32132 non-null  object \n",
      " 2   specs      31463 non-null  object \n",
      " 3   price      32132 non-null  float64\n",
      " 4   item_id    32132 non-null  int32  \n",
      " 5   developer  32132 non-null  object \n",
      " 6   Year       32132 non-null  Int64  \n",
      "dtypes: Int64(1), float64(1), int32(1), object(4)\n",
      "memory usage: 1.9+ MB\n"
     ]
    }
   ],
   "source": [
    "# Veamos info del Dataframe que vamos a usar \n",
    "df_games.info()"
   ]
  },
  {
   "cell_type": "code",
   "execution_count": 7,
   "metadata": {},
   "outputs": [
    {
     "name": "stdout",
     "output_type": "stream",
     "text": [
      "<class 'pandas.core.frame.DataFrame'>\n",
      "Index: 3285249 entries, 0 to 5170013\n",
      "Data columns (total 6 columns):\n",
      " #   Column            Dtype \n",
      "---  ------            ----- \n",
      " 0   user_id           object\n",
      " 1   user_url          object\n",
      " 2   item_id           int32 \n",
      " 3   item_name         object\n",
      " 4   playtime_forever  int32 \n",
      " 5   playtime_2weeks   int32 \n",
      "dtypes: int32(3), object(3)\n",
      "memory usage: 137.9+ MB\n"
     ]
    }
   ],
   "source": [
    "# # Veamos info del Dataframe que vamos a usar \n",
    "df_items.info()"
   ]
  },
  {
   "cell_type": "code",
   "execution_count": 8,
   "metadata": {},
   "outputs": [
    {
     "data": {
      "text/plain": [
       "0              10\n",
       "2              30\n",
       "8             300\n",
       "9             240\n",
       "10           3830\n",
       "            ...  \n",
       "5170007    304930\n",
       "5170008    227940\n",
       "5170011    388490\n",
       "5170012    521570\n",
       "5170013    519140\n",
       "Name: item_id, Length: 3285249, dtype: int32"
      ]
     },
     "execution_count": 8,
     "metadata": {},
     "output_type": "execute_result"
    }
   ],
   "source": [
    "# Observamos la columna \"Item_id\"\n",
    "df_items['item_id']"
   ]
  },
  {
   "cell_type": "code",
   "execution_count": 9,
   "metadata": {},
   "outputs": [
    {
     "data": {
      "text/plain": [
       "88310     ['Action', 'Casual', 'Indie', 'Simulation', 'S...\n",
       "88311          ['Free to Play', 'Indie', 'RPG', 'Strategy']\n",
       "88312     ['Casual', 'Free to Play', 'Indie', 'Simulatio...\n",
       "88313                     ['Action', 'Adventure', 'Casual']\n",
       "88314               ['Action', 'Indie', 'Casual', 'Sports']\n",
       "                                ...                        \n",
       "120440        ['Casual', 'Indie', 'Simulation', 'Strategy']\n",
       "120441                      ['Casual', 'Indie', 'Strategy']\n",
       "120442                    ['Indie', 'Racing', 'Simulation']\n",
       "120443                                  ['Casual', 'Indie']\n",
       "120444    ['Early Access', 'Adventure', 'Indie', 'Action...\n",
       "Name: genres, Length: 32132, dtype: object"
      ]
     },
     "execution_count": 9,
     "metadata": {},
     "output_type": "execute_result"
    }
   ],
   "source": [
    "# # Observamos la columna \"genres\"\n",
    "df_games[\"genres\"]"
   ]
  },
  {
   "cell_type": "code",
   "execution_count": 10,
   "metadata": {},
   "outputs": [],
   "source": [
    "# Hacemos un merge en base con la columna item_id\n",
    "df_games_items = pd.merge(df_games, df_items, on='item_id')"
   ]
  },
  {
   "cell_type": "code",
   "execution_count": 11,
   "metadata": {},
   "outputs": [
    {
     "data": {
      "text/plain": [
       "Index(['genres', 'item_id', 'Year', 'playtime_forever', 'playtime_2weeks'], dtype='object')"
      ]
     },
     "execution_count": 11,
     "metadata": {},
     "output_type": "execute_result"
    }
   ],
   "source": [
    "# Borraremos columnas no deseadas\n",
    "df_games_items = df_games_items.drop(columns= [\"item_name\", \"user_url\", \"user_id\", \"developer\", \"specs\", \"price\", \"name\"])\n",
    "df_games_items.columns"
   ]
  },
  {
   "cell_type": "code",
   "execution_count": 12,
   "metadata": {},
   "outputs": [
    {
     "data": {
      "text/html": [
       "<div>\n",
       "<style scoped>\n",
       "    .dataframe tbody tr th:only-of-type {\n",
       "        vertical-align: middle;\n",
       "    }\n",
       "\n",
       "    .dataframe tbody tr th {\n",
       "        vertical-align: top;\n",
       "    }\n",
       "\n",
       "    .dataframe thead th {\n",
       "        text-align: right;\n",
       "    }\n",
       "</style>\n",
       "<table border=\"1\" class=\"dataframe\">\n",
       "  <thead>\n",
       "    <tr style=\"text-align: right;\">\n",
       "      <th></th>\n",
       "      <th>genres</th>\n",
       "      <th>item_id</th>\n",
       "      <th>Year</th>\n",
       "      <th>playtime_forever</th>\n",
       "      <th>playtime_2weeks</th>\n",
       "    </tr>\n",
       "  </thead>\n",
       "  <tbody>\n",
       "    <tr>\n",
       "      <th>0</th>\n",
       "      <td>Action</td>\n",
       "      <td>282010</td>\n",
       "      <td>1997</td>\n",
       "      <td>5</td>\n",
       "      <td>0</td>\n",
       "    </tr>\n",
       "    <tr>\n",
       "      <th>0</th>\n",
       "      <td>Indie</td>\n",
       "      <td>282010</td>\n",
       "      <td>1997</td>\n",
       "      <td>5</td>\n",
       "      <td>0</td>\n",
       "    </tr>\n",
       "    <tr>\n",
       "      <th>0</th>\n",
       "      <td>Racing</td>\n",
       "      <td>282010</td>\n",
       "      <td>1997</td>\n",
       "      <td>5</td>\n",
       "      <td>0</td>\n",
       "    </tr>\n",
       "    <tr>\n",
       "      <th>1</th>\n",
       "      <td>Action</td>\n",
       "      <td>282010</td>\n",
       "      <td>1997</td>\n",
       "      <td>13</td>\n",
       "      <td>0</td>\n",
       "    </tr>\n",
       "    <tr>\n",
       "      <th>1</th>\n",
       "      <td>Indie</td>\n",
       "      <td>282010</td>\n",
       "      <td>1997</td>\n",
       "      <td>13</td>\n",
       "      <td>0</td>\n",
       "    </tr>\n",
       "    <tr>\n",
       "      <th>...</th>\n",
       "      <td>...</td>\n",
       "      <td>...</td>\n",
       "      <td>...</td>\n",
       "      <td>...</td>\n",
       "      <td>...</td>\n",
       "    </tr>\n",
       "    <tr>\n",
       "      <th>2868053</th>\n",
       "      <td>Action</td>\n",
       "      <td>80</td>\n",
       "      <td>2004</td>\n",
       "      <td>203</td>\n",
       "      <td>0</td>\n",
       "    </tr>\n",
       "    <tr>\n",
       "      <th>2868054</th>\n",
       "      <td>Action</td>\n",
       "      <td>80</td>\n",
       "      <td>2004</td>\n",
       "      <td>244</td>\n",
       "      <td>0</td>\n",
       "    </tr>\n",
       "    <tr>\n",
       "      <th>2868055</th>\n",
       "      <td>Action</td>\n",
       "      <td>80</td>\n",
       "      <td>2004</td>\n",
       "      <td>7</td>\n",
       "      <td>0</td>\n",
       "    </tr>\n",
       "    <tr>\n",
       "      <th>2868056</th>\n",
       "      <td>Action</td>\n",
       "      <td>80</td>\n",
       "      <td>2004</td>\n",
       "      <td>9</td>\n",
       "      <td>0</td>\n",
       "    </tr>\n",
       "    <tr>\n",
       "      <th>2868057</th>\n",
       "      <td>Action</td>\n",
       "      <td>80</td>\n",
       "      <td>2004</td>\n",
       "      <td>99</td>\n",
       "      <td>0</td>\n",
       "    </tr>\n",
       "  </tbody>\n",
       "</table>\n",
       "<p>8084755 rows × 5 columns</p>\n",
       "</div>"
      ],
      "text/plain": [
       "         genres  item_id  Year  playtime_forever  playtime_2weeks\n",
       "0        Action   282010  1997                 5                0\n",
       "0         Indie   282010  1997                 5                0\n",
       "0        Racing   282010  1997                 5                0\n",
       "1        Action   282010  1997                13                0\n",
       "1         Indie   282010  1997                13                0\n",
       "...         ...      ...   ...               ...              ...\n",
       "2868053  Action       80  2004               203                0\n",
       "2868054  Action       80  2004               244                0\n",
       "2868055  Action       80  2004                 7                0\n",
       "2868056  Action       80  2004                 9                0\n",
       "2868057  Action       80  2004                99                0\n",
       "\n",
       "[8084755 rows x 5 columns]"
      ]
     },
     "execution_count": 12,
     "metadata": {},
     "output_type": "execute_result"
    }
   ],
   "source": [
    "# Convertir las cadenas que representan listas a listas reales\n",
    "df_games_items['genres'] = df_games_items['genres'].apply(ast.literal_eval)\n",
    "# Los datos de la columna estan en una lista, queremos esten por filas\n",
    "# Usaremos el metodo explode\n",
    "df_games_items = df_games_items.explode(\"genres\", ignore_index=False)\n",
    "df_games_items"
   ]
  },
  {
   "cell_type": "code",
   "execution_count": 13,
   "metadata": {},
   "outputs": [
    {
     "data": {
      "text/plain": [
       "386767"
      ]
     },
     "execution_count": 13,
     "metadata": {},
     "output_type": "execute_result"
    }
   ],
   "source": [
    "# Solo queremos devolver el tiempo que más se juega, no menos\n",
    "df_games_items = df_games_items[~(df_games_items[['playtime_forever', 'playtime_2weeks']] == 0).any(axis=1)]\n",
    "df_games_items.shape[0]"
   ]
  },
  {
   "cell_type": "code",
   "execution_count": 14,
   "metadata": {},
   "outputs": [
    {
     "name": "stdout",
     "output_type": "stream",
     "text": [
      "La mediana de playtime_forever es: 1747.0\n"
     ]
    }
   ],
   "source": [
    "# Calcular la mediana de la columna 'playtime_forever'\n",
    "promedio_playtime = df_games_items['playtime_forever'].median()\n",
    "\n",
    "# Imprimir el promedio\n",
    "print(\"La mediana de playtime_forever es:\", promedio_playtime)\n"
   ]
  },
  {
   "cell_type": "code",
   "execution_count": 15,
   "metadata": {},
   "outputs": [
    {
     "data": {
      "text/plain": [
       "66718"
      ]
     },
     "execution_count": 15,
     "metadata": {},
     "output_type": "execute_result"
    }
   ],
   "source": [
    "# Eliminaremos los valores de la mediana de la columna playitme_forever\n",
    "df_games_items = df_games_items[~(df_games_items[['playtime_forever', 'playtime_2weeks']] <= 500).any(axis=1)]\n",
    "df_games_items.shape[0]"
   ]
  },
  {
   "cell_type": "code",
   "execution_count": 16,
   "metadata": {},
   "outputs": [],
   "source": [
    "df_games_items = df_games_items.reset_index()"
   ]
  },
  {
   "cell_type": "code",
   "execution_count": 17,
   "metadata": {},
   "outputs": [
    {
     "data": {
      "text/html": [
       "<div>\n",
       "<style scoped>\n",
       "    .dataframe tbody tr th:only-of-type {\n",
       "        vertical-align: middle;\n",
       "    }\n",
       "\n",
       "    .dataframe tbody tr th {\n",
       "        vertical-align: top;\n",
       "    }\n",
       "\n",
       "    .dataframe thead th {\n",
       "        text-align: right;\n",
       "    }\n",
       "</style>\n",
       "<table border=\"1\" class=\"dataframe\">\n",
       "  <thead>\n",
       "    <tr style=\"text-align: right;\">\n",
       "      <th></th>\n",
       "      <th>index</th>\n",
       "      <th>genres</th>\n",
       "      <th>item_id</th>\n",
       "      <th>Year</th>\n",
       "      <th>playtime_forever</th>\n",
       "      <th>playtime_2weeks</th>\n",
       "    </tr>\n",
       "  </thead>\n",
       "  <tbody>\n",
       "    <tr>\n",
       "      <th>0</th>\n",
       "      <td>1277</td>\n",
       "      <td>Action</td>\n",
       "      <td>70</td>\n",
       "      <td>1998</td>\n",
       "      <td>836</td>\n",
       "      <td>815</td>\n",
       "    </tr>\n",
       "    <tr>\n",
       "      <th>1</th>\n",
       "      <td>1623</td>\n",
       "      <td>Action</td>\n",
       "      <td>70</td>\n",
       "      <td>1998</td>\n",
       "      <td>2415</td>\n",
       "      <td>602</td>\n",
       "    </tr>\n",
       "    <tr>\n",
       "      <th>2</th>\n",
       "      <td>2496</td>\n",
       "      <td>Action</td>\n",
       "      <td>70</td>\n",
       "      <td>1998</td>\n",
       "      <td>1205</td>\n",
       "      <td>535</td>\n",
       "    </tr>\n",
       "    <tr>\n",
       "      <th>3</th>\n",
       "      <td>5899</td>\n",
       "      <td>Action</td>\n",
       "      <td>2400</td>\n",
       "      <td>2006</td>\n",
       "      <td>1574</td>\n",
       "      <td>1574</td>\n",
       "    </tr>\n",
       "    <tr>\n",
       "      <th>4</th>\n",
       "      <td>5899</td>\n",
       "      <td>Indie</td>\n",
       "      <td>2400</td>\n",
       "      <td>2006</td>\n",
       "      <td>1574</td>\n",
       "      <td>1574</td>\n",
       "    </tr>\n",
       "  </tbody>\n",
       "</table>\n",
       "</div>"
      ],
      "text/plain": [
       "   index  genres  item_id  Year  playtime_forever  playtime_2weeks\n",
       "0   1277  Action       70  1998               836              815\n",
       "1   1623  Action       70  1998              2415              602\n",
       "2   2496  Action       70  1998              1205              535\n",
       "3   5899  Action     2400  2006              1574             1574\n",
       "4   5899   Indie     2400  2006              1574             1574"
      ]
     },
     "execution_count": 17,
     "metadata": {},
     "output_type": "execute_result"
    }
   ],
   "source": [
    "df_games_items.head()"
   ]
  },
  {
   "cell_type": "code",
   "execution_count": 18,
   "metadata": {},
   "outputs": [],
   "source": [
    "df_games_items = df_games_items.drop(columns= [\"index\"])"
   ]
  },
  {
   "cell_type": "code",
   "execution_count": 19,
   "metadata": {},
   "outputs": [
    {
     "data": {
      "text/plain": [
       "0"
      ]
     },
     "execution_count": 19,
     "metadata": {},
     "output_type": "execute_result"
    }
   ],
   "source": [
    "df_games_items['playtime_forever'].isna().sum()"
   ]
  },
  {
   "cell_type": "markdown",
   "metadata": {},
   "source": [
    "##### Ya tenemos los datos listos creamos la funcion "
   ]
  },
  {
   "cell_type": "code",
   "execution_count": 22,
   "metadata": {},
   "outputs": [],
   "source": [
    "def PlaytimeGenre(genero):\n",
    "    filtro = df_games_items[df_games_items['genres'] == genero]\n",
    "    group = filtro[filtro['playtime_forever'] == filtro['playtime_forever'].max()]\n",
    "    max_year = group['Year'].values[0]\n",
    "    return {\"Año de lanzamiento con más horas jugadas para Género \" + genero: max_year}"
   ]
  },
  {
   "cell_type": "code",
   "execution_count": 24,
   "metadata": {},
   "outputs": [
    {
     "data": {
      "text/plain": [
       "{'Año de lanzamiento con más horas jugadas para Género Action': 2004}"
      ]
     },
     "execution_count": 24,
     "metadata": {},
     "output_type": "execute_result"
    }
   ],
   "source": [
    "PlaytimeGenre(\"Action\")"
   ]
  },
  {
   "cell_type": "code",
   "execution_count": 39,
   "metadata": {},
   "outputs": [],
   "source": [
    "# Parquet\n",
    "df_games_items.to_parquet(\"Playtime.parquet\")"
   ]
  },
  {
   "cell_type": "code",
   "execution_count": 40,
   "metadata": {},
   "outputs": [],
   "source": [
    "# Json\n",
    "df_games_items.to_json(\"Playtime1.json\")"
   ]
  },
  {
   "cell_type": "markdown",
   "metadata": {},
   "source": [
    "#### Segunda funcion\n",
    "def UsersRecommend( año : int ): Devuelve el top 3 de juegos MÁS recomendados por usuarios para el año dado. (reviews.recommend = True y comentarios positivos/neutrales)\n",
    "<div> Ejemplo de retorno: [{\"Puesto 1\" : X}, {\"Puesto 2\" : Y},{\"Puesto 3\" : Z}]\n",
    "</div>"
   ]
  },
  {
   "cell_type": "code",
   "execution_count": null,
   "metadata": {},
   "outputs": [],
   "source": []
  }
 ],
 "metadata": {
  "kernelspec": {
   "display_name": "Python 3",
   "language": "python",
   "name": "python3"
  },
  "language_info": {
   "codemirror_mode": {
    "name": "ipython",
    "version": 3
   },
   "file_extension": ".py",
   "mimetype": "text/x-python",
   "name": "python",
   "nbconvert_exporter": "python",
   "pygments_lexer": "ipython3",
   "version": "3.11.9"
  }
 },
 "nbformat": 4,
 "nbformat_minor": 2
}
